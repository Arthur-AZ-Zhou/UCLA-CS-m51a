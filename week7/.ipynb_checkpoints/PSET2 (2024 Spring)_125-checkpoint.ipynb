{
 "cells": [
  {
   "cell_type": "markdown",
   "metadata": {
    "editable": false,
    "slideshow": {
     "slide_type": ""
    },
    "tags": []
   },
   "source": [
    "# Spring 2024 ECE M16: PSET 2"
   ]
  },
  {
   "cell_type": "markdown",
   "metadata": {
    "slideshow": {
     "slide_type": ""
    },
    "tags": []
   },
   "source": [
    "## Student Name: _ZHOU, ARTHUR_"
   ]
  },
  {
   "cell_type": "markdown",
   "metadata": {
    "editable": false,
    "slideshow": {
     "slide_type": ""
    },
    "tags": []
   },
   "source": [
    "## Instructions (Please read !!!):\n",
    "\n",
    "**1. This notebook is personalized for you. Make sure you have downloaded the notebook that was listed against your name.**\n",
    "\n",
    "**2. Deadline to submit is as listed on Gradescope.**\n",
    "\n",
    "**3. You can upload it as many times as you like, but the autograder will only do some basic sanity checks on the basic format of your answer and return a score of 0. It will, however, not check or provide feedback on the correctness of your answer. For example, if the answer has to be a list of base-10 integers, then the sanity check will check whether you indeed provided10 a list of base-10 integers. Likewise, if the answer asks for a logic expression, the sanity check will check whether your answer is a valid logic expression (but it will not check whether the variable names used are correct).**\n",
    "\n",
    "**4. Please do not edit, move, or delete any of the cells. You must only write in the cells provided for your answers while adhering strictly to the format requirements.**\n",
    "\n",
    "**5. Most problems/subproblems will be auto-graded, and it is critically important that you strictly adhere to the formatting requirements for the answers. A few will be graded manually, and there you are allowed free-form text, either plain text or in Markdown format.**\n",
    "\n",
    "**5. After every problem or subproblem, we have provided a cell where you can optionally provide a brief explanation of your solution approach. By default, we will not grade the explanation but use it if your answer is marked wrong by the autograder or the human grader, and you request a regrade. No regrade request will be entertained unless an explanation of how you derived your answer was provided. The explanation cells can accept text in Markdown format.**"
   ]
  },
  {
   "cell_type": "markdown",
   "metadata": {
    "editable": false,
    "id": "yzz4UTixG-I2",
    "slideshow": {
     "slide_type": ""
    },
    "tags": []
   },
   "source": [
    "# Problem 1: Properties of Signed Number Representations [40.0 points]"
   ]
  },
  {
   "cell_type": "markdown",
   "metadata": {
    "editable": false,
    "slideshow": {
     "slide_type": ""
    },
    "tags": []
   },
   "source": [
    "## Part 1.1: From Decimal to Sign-Magnitude Representation [2.5 points]\n",
    "\n",
    "What is the sign-magnitude representation of the decimal number 20 using 6 bits? Write your answer as a length 6 string of 0s and 1s, e.g., in the case of 5-bits it could be 10101."
   ]
  },
  {
   "cell_type": "code",
   "execution_count": null,
   "metadata": {
    "id": "CtN68h-KHItf",
    "slideshow": {
     "slide_type": ""
    },
    "tags": []
   },
   "outputs": [],
   "source": [
    "010100"
   ]
  },
  {
   "cell_type": "markdown",
   "metadata": {
    "editable": false,
    "slideshow": {
     "slide_type": ""
    },
    "tags": []
   },
   "source": [
    "**Optional Explanation:**"
   ]
  },
  {
   "cell_type": "markdown",
   "metadata": {
    "slideshow": {
     "slide_type": ""
    },
    "tags": []
   },
   "source": [
    "Sign magnitude is simply the first bit being 0 if the number is positive and 1 if negative. Then treat the rest of the 5 bits as a normal integer. Since 20 is positive, the first bit is 0 and I set the binary number 20 as the rest of the bits."
   ]
  },
  {
   "cell_type": "markdown",
   "metadata": {
    "editable": false,
    "slideshow": {
     "slide_type": ""
    },
    "tags": []
   },
   "source": [
    "## Part 1.2: From Sign-Magnitude Representation to Decimal [2.5 points]\n",
    "\n",
    "Convert the 6-bit sign-magnitude binary number 111000 to its decimal value. Write your answer as a base-10 integer, e.g. -2."
   ]
  },
  {
   "cell_type": "code",
   "execution_count": null,
   "metadata": {
    "id": "CtN68h-KHItf",
    "slideshow": {
     "slide_type": ""
    },
    "tags": []
   },
   "outputs": [],
   "source": [
    "-24"
   ]
  },
  {
   "cell_type": "markdown",
   "metadata": {
    "editable": false,
    "slideshow": {
     "slide_type": ""
    },
    "tags": []
   },
   "source": [
    "**Optional Explanation:**"
   ]
  },
  {
   "cell_type": "markdown",
   "metadata": {
    "slideshow": {
     "slide_type": ""
    },
    "tags": []
   },
   "source": [
    "Since the first bit is negative, we know the number is negative. We can take the remaining 5 bits and find 11000 = 24, so the answer is -24."
   ]
  },
  {
   "cell_type": "markdown",
   "metadata": {
    "editable": false,
    "slideshow": {
     "slide_type": ""
    },
    "tags": []
   },
   "source": [
    "## Part 1.3: Doing Arithmetic with Sign-Magnitude Representation [2.5 points]\n",
    "\n",
    "In the lecture, we discussed adding and subtracting 2's complement numbers and realized how simple and elegant it was. Here, we want you to think about how one will do these operations when bits represent sign-magnitude numbers. Specifically, consider two 8-bit bit-vectors _a\\[7:0]_ and _b\\[7:0]_ representing two sign-magnitude numbers _a_ and _b_. Provide an algorithm to compute _a+b_. Remember, _a_ and _b_ may be negative, and in sign-magnitude there are two representations of 0. While you can come up with an algorithm from first principles, feel free to do a web search or ask your favorite AI chatbot, but be careful, as they are often incorrect!\n",
    "\n",
    "Write your algorithm in the text box provided below (replace the current text with your answer). You may write your algorithm in any manner (e.g., pseudo code, real code, etc.) that will convey clearly and rigorously the algorithm."
   ]
  },
  {
   "cell_type": "markdown",
   "metadata": {
    "slideshow": {
     "slide_type": ""
    },
    "tags": []
   },
   "source": [
    "Let's assume that we have a working adder and subtractor that can properly handle overflow. We have a few cases based on if A or B are positive or negative. We can check the sign of A and B by inspecting the MSB of both binary numbers.\n",
    "\n",
    "Case 1: Both A and B are positive or both negative\n",
    "This is the easy case, as we maintain the sign bit while performing normal addition.\n",
    "\n",
    "Case 2: If a number is 0\n",
    "This is also an easy case: if A or B are 0, return the other number. If they're both 0 return 0.\n",
    "\n",
    "Case 3: If A and B have different signs\n",
    "Let's call |A| and |B| the magnitude of A and B respectively. Use a comparator to find which magnitude is larger, then record the sign of the number whose magnitude is larger, call this record bit R. Perform basic subtraction (so no going into the negatives), subtracting the smaller number from the larger number. Then take the result and attach R as its MSB."
   ]
  },
  {
   "cell_type": "markdown",
   "metadata": {
    "editable": false,
    "slideshow": {
     "slide_type": ""
    },
    "tags": []
   },
   "source": [
    "## Part 1.4: From Decimal to One's Complement Representation [2.5 points]\n",
    "\n",
    "What is the one's complement representation of the decimal number 23 using 6 bits? Write your answer as a length 6 string of 0s and 1s, e.g., in the case of 5-bits it could be 10101."
   ]
  },
  {
   "cell_type": "code",
   "execution_count": null,
   "metadata": {
    "id": "CtN68h-KHItf",
    "slideshow": {
     "slide_type": ""
    },
    "tags": []
   },
   "outputs": [],
   "source": [
    "010111"
   ]
  },
  {
   "cell_type": "markdown",
   "metadata": {
    "editable": false,
    "slideshow": {
     "slide_type": ""
    },
    "tags": []
   },
   "source": [
    "**Optional Explanation:**"
   ]
  },
  {
   "cell_type": "markdown",
   "metadata": {
    "slideshow": {
     "slide_type": ""
    },
    "tags": []
   },
   "source": [
    "Since 23 is positive, the one's comp representation is the same as the unsigned integer representation of 23 which is simply 010111"
   ]
  },
  {
   "cell_type": "markdown",
   "metadata": {
    "editable": false,
    "slideshow": {
     "slide_type": ""
    },
    "tags": []
   },
   "source": [
    "## Part 1.5: From One's Complement Representation to Decimal [2.5 points]\n",
    "\n",
    "Convert the 6-bit one's complement binary number 110111 to its decimal value. Write your answer as a base-10 integer, e.g. -2."
   ]
  },
  {
   "cell_type": "code",
   "execution_count": null,
   "metadata": {
    "id": "CtN68h-KHItf",
    "slideshow": {
     "slide_type": ""
    },
    "tags": []
   },
   "outputs": [],
   "source": [
    "-8"
   ]
  },
  {
   "cell_type": "markdown",
   "metadata": {
    "editable": false,
    "slideshow": {
     "slide_type": ""
    },
    "tags": []
   },
   "source": [
    "**Optional Explanation:**"
   ]
  },
  {
   "cell_type": "markdown",
   "metadata": {
    "slideshow": {
     "slide_type": ""
    },
    "tags": []
   },
   "source": [
    "To convert we perform 111111 - XXXXXX = 110111. One can quite reasonably infer that the absolute value of the number is 001000, which translates to 8. Since we know it's negative since there's a 1 as the MSB the answer is -8."
   ]
  },
  {
   "cell_type": "markdown",
   "metadata": {
    "editable": false,
    "slideshow": {
     "slide_type": ""
    },
    "tags": []
   },
   "source": [
    "## Part 1.6: Doing Arithmetic with One's Complement Representation [2.5 points]\n",
    "\n",
    "In the lectures, we discussed adding and subtracting 2's complement numbers and realized how simple and elegant it was. Here, we want you to think about how one will do these operations when bits represent one's complement numbers. Specifically, consider two 8-bit bit-vectors _a\\[7:0]_ and _b\\[7:0]_ representing two one's complement numbers _a_ and _b_. Provide an algorithm to compute _a-b_. Remember, _a_ and _b_ may be negative, and in one's complement, there are two representations of 0. While you can come up with an algorithm from first principles, feel free to do a web search or ask your favorite AI chatbot, but be careful, as they are often incorrect! \n",
    "\n",
    "Write your algorithm in the text box provided below (replace the current text with your answer). You may write your algorithm in any manner (e.g., pseudo code, real code, etc.) that will convey clearly and rigorously the algorithm."
   ]
  },
  {
   "cell_type": "markdown",
   "metadata": {
    "slideshow": {
     "slide_type": ""
    },
    "tags": []
   },
   "source": [
    "Note: 0 in one's comp is represented as all the bits being either 1 or 0.\n",
    "\n",
    "We initially take the negative version of b, or converting b to its complement. To do so we flip all the 0s into 1s and 1s into 0s. We can then perform a + (-b). \n",
    "\n",
    "After getting a and -b, we add the two numbers using an adder. This is where things get interesting: if we have a carry out number of 1, we simply add the carry to the sum. If there is no carryout we leave the sum as is. If after all this, the MSB is 0, then the answer is positive and it's the binary form of the rest of the numbers. If the MSB is 1 however, that means the number is negative and is in one's complement form. \n",
    "\n",
    "Example: 25 - 14 = 25 + (-14) = 00011001 - 11110001 = (1) 00001010. We have a carryout of 1 and we add it to the end: 00001011. The MSB in this case is 0 meaning that the result is positive and is in binary form. The final result would translate into 11 which is true.\n",
    "\n",
    "Example: 14 - 25 = 14 + -(25) = 00001110 - 11100110 = (0) 11110100. We have no carryout so we leave it as is. The MSB is 1 and the result is in one's complement form. We can find it through doing 11111111 - XXXXXXXX = 11110100. We can tell that the answer would be the negative version of the pure binary 00001011 which is 11 making -11 which checks out too."
   ]
  },
  {
   "cell_type": "markdown",
   "metadata": {
    "editable": false,
    "slideshow": {
     "slide_type": ""
    },
    "tags": []
   },
   "source": [
    "## Part 1.7: From Decimal to Two's Complement Representation [2.5 points]\n",
    "\n",
    "What is the two's complement representation of the decimal number \\-18 using 6 bits? Write your answer as a length 6 string of 0s and 1s, e.g., in the case of 5-bits it could be 10101."
   ]
  },
  {
   "cell_type": "code",
   "execution_count": null,
   "metadata": {
    "id": "CtN68h-KHItf",
    "slideshow": {
     "slide_type": ""
    },
    "tags": []
   },
   "outputs": [],
   "source": [
    "101110"
   ]
  },
  {
   "cell_type": "markdown",
   "metadata": {
    "editable": false,
    "slideshow": {
     "slide_type": ""
    },
    "tags": []
   },
   "source": [
    "**Optional Explanation:**"
   ]
  },
  {
   "cell_type": "markdown",
   "metadata": {
    "slideshow": {
     "slide_type": ""
    },
    "tags": []
   },
   "source": [
    "We began by converting -18 to one's comp and then adding one to the end. We took 111111 - 010010 which is 18's pure binary form. We got the answer 101101 which was the 1's comp representation of -18. We added one to get 101110 which is the 2's complement form of -18."
   ]
  },
  {
   "cell_type": "markdown",
   "metadata": {
    "editable": false,
    "slideshow": {
     "slide_type": ""
    },
    "tags": []
   },
   "source": [
    "## Part 1.8: From Two's Complement Representation to Decimal [2.5 points]\n",
    "\n",
    "Convert the 6-bit two's complement binary number 111110 to its decimal value. Write your answer as a base-10 integer, e.g. -2."
   ]
  },
  {
   "cell_type": "code",
   "execution_count": null,
   "metadata": {
    "id": "CtN68h-KHItf",
    "slideshow": {
     "slide_type": ""
    },
    "tags": []
   },
   "outputs": [],
   "source": [
    "-2"
   ]
  },
  {
   "cell_type": "markdown",
   "metadata": {
    "editable": false,
    "slideshow": {
     "slide_type": ""
    },
    "tags": []
   },
   "source": [
    "**Optional Explanation:**"
   ]
  },
  {
   "cell_type": "markdown",
   "metadata": {
    "slideshow": {
     "slide_type": ""
    },
    "tags": []
   },
   "source": [
    "111110 equals to -32 + 16 + 8 + 4 + 2 = -2. "
   ]
  },
  {
   "cell_type": "markdown",
   "metadata": {
    "editable": false,
    "slideshow": {
     "slide_type": ""
    },
    "tags": []
   },
   "source": [
    "## Part 1.9: Two's Complement Range: Lowest Value [2.5 points]\n",
    "\n",
    "What is the lowest value that can be represented by a 7-bit two's complement number? Write your answer as a base-10 integer, e.g., -314."
   ]
  },
  {
   "cell_type": "code",
   "execution_count": null,
   "metadata": {
    "id": "CtN68h-KHItf",
    "slideshow": {
     "slide_type": ""
    },
    "tags": []
   },
   "outputs": [],
   "source": [
    "-64"
   ]
  },
  {
   "cell_type": "markdown",
   "metadata": {
    "editable": false,
    "slideshow": {
     "slide_type": ""
    },
    "tags": []
   },
   "source": [
    "**Optional Explanation:**"
   ]
  },
  {
   "cell_type": "markdown",
   "metadata": {
    "slideshow": {
     "slide_type": ""
    },
    "tags": []
   },
   "source": [
    "Two's complement works by multiplying the MSB by -1 when calculating the power value. Since we start off at 2^0 the MSB is just -1 * 2^6 which is -64. We can't have any other binary values be 1 other than the MSB because they're positive and will increase -64."
   ]
  },
  {
   "cell_type": "markdown",
   "metadata": {
    "editable": false,
    "slideshow": {
     "slide_type": ""
    },
    "tags": []
   },
   "source": [
    "## Part 1.10: Two's Complement Range: Highest Value [2.5 points]\n",
    "\n",
    "What is the highest value that can be represented by a 9-bit two's complement number? Write your answer as a base-10 integer, e.g., 159."
   ]
  },
  {
   "cell_type": "code",
   "execution_count": null,
   "metadata": {
    "id": "CtN68h-KHItf",
    "slideshow": {
     "slide_type": ""
    },
    "tags": []
   },
   "outputs": [],
   "source": [
    "255"
   ]
  },
  {
   "cell_type": "markdown",
   "metadata": {
    "editable": false,
    "slideshow": {
     "slide_type": ""
    },
    "tags": []
   },
   "source": [
    "**Optional Explanation:**"
   ]
  },
  {
   "cell_type": "markdown",
   "metadata": {
    "slideshow": {
     "slide_type": ""
    },
    "tags": []
   },
   "source": [
    "The highest number would be 011111111. This is because the MSB is the negative version of 2^8 and would serve to make the entire number negative. To counteract this we set the MSB to 0 and the rest to 1 to add up. The rest of this would be 128 + 64 + 32 + 16 + 8 + 4 + 2 + 1 = 255"
   ]
  },
  {
   "cell_type": "markdown",
   "metadata": {
    "editable": false,
    "slideshow": {
     "slide_type": ""
    },
    "tags": []
   },
   "source": [
    "## Part 1.11: Negating a two's complement number [2.5 points]\n",
    "\n",
    "Which of the following procedures will negate an $n$-bit two's complement number, assuming the negation will fit in $n$-bits? To get credit, you must select all the valid choices and no invalid ones. Your answer should be a list of option numbers, e.g. \\[\\] to indicate that none of the procedures will work, \\[4\\] to indicate that only the procedure in option 4 will work, and \\[3,4\\] to indicate that only the procedures in options 3 and 4 will work.\n",
    "\n",
    "1. Flip each bit\n",
    "2. Flip each bit and then add 1 to the resulting bit pattern, interpreting it as a base-2 unsigned number\n",
    "3. Interpreting the given bit pattern as an $n$-bit base-2 unsigned number, subtract it from $2^n$\n",
    "4. Starting from the rightmost bit (least significant bit), copy all the bits through the first 0, and then flip the remaining bits\n",
    "5. Starting from the leftmost bit (most significant bit), copy all the bits through the first 1, and then flip the remaining bits\n",
    "6. Starting from the rightmost bit (least significant bit), copy all the bits through the first 1, and then flip the remaining bits\n",
    "7. Starting from the leftmost bit (most significant bit), copy all the bits through the first 0, and then flip the remaining bits"
   ]
  },
  {
   "cell_type": "code",
   "execution_count": null,
   "metadata": {
    "id": "CtN68h-KHItf",
    "slideshow": {
     "slide_type": ""
    },
    "tags": []
   },
   "outputs": [],
   "source": [
    "[6]"
   ]
  },
  {
   "cell_type": "markdown",
   "metadata": {
    "editable": false,
    "slideshow": {
     "slide_type": ""
    },
    "tags": []
   },
   "source": [
    "**Optional Explanation:**"
   ]
  },
  {
   "cell_type": "markdown",
   "metadata": {
    "slideshow": {
     "slide_type": ""
    },
    "tags": []
   },
   "source": [
    "We know number 6 works because we went over this in class. 2 would work IF you interpreted it as a base-2 signed number, not unsigned so therefore we can't choose 2."
   ]
  },
  {
   "cell_type": "markdown",
   "metadata": {
    "editable": false,
    "slideshow": {
     "slide_type": ""
    },
    "tags": []
   },
   "source": [
    "## Part 1.12: Truisms About Two's Complement Numbers [2.5 points]\n",
    "\n",
    "Which all of the following statements are true about two's complement representation? To get credit, you must select all the true statements and no untrue ones. Your answer should be a list of option numbers, e.g., [] to indicate that none of the options represent true statements, \\[2\\] to indicate that only the statement in option 2 is true, and \\[1,2\\] to indicate that only the statements in options 1 and 2 are true.\n",
    "\n",
    "1. The range of numbers that two's complement represents is symmetric about zero\n",
    "2. Two's complement has a unique representation of zero\n",
    "3. To convert an $n$-bit two's complement number $X$ to a $2n$-bit one, append $n$ 0's or $n$ 1's before the left-most bit for positive and negative $X$ respectively\n",
    "4. To negate an $n$-bit two's complement number $X$, flip all the bits of $X$"
   ]
  },
  {
   "cell_type": "code",
   "execution_count": null,
   "metadata": {
    "id": "CtN68h-KHItf",
    "slideshow": {
     "slide_type": ""
    },
    "tags": []
   },
   "outputs": [],
   "source": [
    "[2,3]"
   ]
  },
  {
   "cell_type": "markdown",
   "metadata": {
    "editable": false,
    "slideshow": {
     "slide_type": ""
    },
    "tags": []
   },
   "source": [
    "**Optional Explanation:**"
   ]
  },
  {
   "cell_type": "markdown",
   "metadata": {
    "slideshow": {
     "slide_type": ""
    },
    "tags": []
   },
   "source": [
    "1 is false because the range is -(2^n) to 2^n - 1. 2 is true because you can only represent 0 in one way, 3 is true, 4 is false because you have to add a 1 at the end."
   ]
  },
  {
   "cell_type": "markdown",
   "metadata": {
    "editable": false,
    "slideshow": {
     "slide_type": ""
    },
    "tags": []
   },
   "source": [
    "## Part 1.13: Reinterpreting Bits [2.5 points]\n",
    "\n",
    "Let $T_{min}$ be the lowest number that can be represented by an $n$-bit two's complement number. Which one of the following expressions represents the highest value that an $n$-bit unsigned number can represent? Your answer should be a decimal number indicating the correct option, e.g., 5.\n",
    "\n",
    "1. $1+2T_{min}$\n",
    "2. $-2T_{min}-1$\n",
    "3. $-2T_{min}$\n",
    "4. $-2T_{min}+1$\n",
    "5. None of the other options"
   ]
  },
  {
   "cell_type": "code",
   "execution_count": null,
   "metadata": {
    "id": "CtN68h-KHItf",
    "slideshow": {
     "slide_type": ""
    },
    "tags": []
   },
   "outputs": [],
   "source": [
    "2"
   ]
  },
  {
   "cell_type": "markdown",
   "metadata": {
    "editable": false,
    "slideshow": {
     "slide_type": ""
    },
    "tags": []
   },
   "source": [
    "**Optional Explanation:**"
   ]
  },
  {
   "cell_type": "markdown",
   "metadata": {
    "slideshow": {
     "slide_type": ""
    },
    "tags": []
   },
   "source": [
    "It's literally just the positive version of 2^n then you double it because you can get 1 away from the next exponent if you add everything else up."
   ]
  },
  {
   "cell_type": "markdown",
   "metadata": {
    "editable": false,
    "slideshow": {
     "slide_type": ""
    },
    "tags": []
   },
   "source": [
    "## Part 1.14: Weights of Bits in Two's Complements [2.5 points]\n",
    "\n",
    "Consider the 5-bit binary pattern $b_4b_3b_2b_1b_0$ representing a 5-bit two's complement number. Let us write the value of this number as $w_4b_4+w_3b_3+w_2b_2+w_1b_1+w_0b_0$ where $w_4$, $w_3$, $w_2$, $w_1$, and $w_0$ can be viewed as weights given to the corresponding bit positions. What values of the weights will yield the numeric value of the number? You must get all five weights correct to get credit. Please provide your answer as a list of the five base-10 integer weights in the order $w_4$, $w_3$, $w_2$, $w_1$, and $w_0$. E.g., you will write \\[12, 11, 10, 9, 2\\] if $w_4=12$, $w_3=11$, $w_2=10$, $w_1=9$, and $w_0=2$."
   ]
  },
  {
   "cell_type": "code",
   "execution_count": null,
   "metadata": {
    "id": "CtN68h-KHItf",
    "slideshow": {
     "slide_type": ""
    },
    "tags": []
   },
   "outputs": [],
   "source": [
    "[-16,8,4,2,1]"
   ]
  },
  {
   "cell_type": "markdown",
   "metadata": {
    "editable": false,
    "slideshow": {
     "slide_type": ""
    },
    "tags": []
   },
   "source": [
    "**Optional Explanation:**"
   ]
  },
  {
   "cell_type": "markdown",
   "metadata": {
    "slideshow": {
     "slide_type": ""
    },
    "tags": []
   },
   "source": [
    "_Replace this text with your explanation._"
   ]
  },
  {
   "cell_type": "markdown",
   "metadata": {
    "slideshow": {
     "slide_type": ""
    },
    "tags": []
   },
   "source": [
    "## Part 1.15: Three's Complement [2.5 points]\n",
    "\n",
    "We have a ternary computer where instead of bits 0 and 1, there are base-3 digits (\"trits\") 0, 1, and 2. To represent signed numbers in this computer, one can generalize the concept of two's complement representation that we saw for base-2 to three's complement in base-3. In base-2, to negate a _n_-bit number $x$, we took its two's complement which was obtained by subtracting $x$ from the largest possible unsigned _n_-bit number (all 1's) and then adding 1, or equivalent computing $2^n-x$. In three's complement, one generalizes the concept to base 3 by subtracting by subtracting the _n_-trit number $x$ from the largest possible unsigned _n_-trit number (all 2's). \n",
    "\n",
    "If you are unable to reason from first principles how three's complement might werk, then do some web search or consult a chatbot to find out how to use this aproach to represent signed numbers using trits. Then answer the following quesitons in the box below.\n",
    "\n",
    "1. What is the range of values one can represent with an _n_-trit three's complement number?\n",
    "2. How can one tell whether an _n_-trit three's complement number is negative or positive?\n",
    "3. In  two's complement we had one more negative number than positive number. What is the case with three's complement? I.e., ere there more negative numbers or more positive numbers, or an equal number of them?"
   ]
  },
  {
   "cell_type": "markdown",
   "metadata": {
    "slideshow": {
     "slide_type": ""
    },
    "tags": []
   },
   "source": [
    "1. (3^n - 1)/2 because that's the sum after setting all bits to the positive trit\n",
    "2. If the first trit is a negative trit. However if the first trit is 0, we have to go to the most significant non-zero bit and check its sign. If it's positive then the number is positive and vice versa.\n",
    "3. The range should be equal. Since each trit can either be positive or negative we actually end up with the range of -(3^n - 1)/2 to (3^n - 1)/2, meaning that it's symmetric about 0."
   ]
  },
  {
   "cell_type": "markdown",
   "metadata": {
    "editable": false,
    "slideshow": {
     "slide_type": ""
    },
    "tags": []
   },
   "source": [
    "## Part 1.16: From Decimal to Three's Complements [2.5 points]\n",
    "\n",
    "Consider the base-10 negative number \\-2013. Write \\-2013 in three's complement as discussed in the preceding part using the minimum number of necessary trits. For example, a possible answer could be the string 12102."
   ]
  },
  {
   "cell_type": "code",
   "execution_count": 2,
   "metadata": {
    "id": "CtN68h-KHItf",
    "slideshow": {
     "slide_type": ""
    },
    "tags": []
   },
   "outputs": [
    {
     "data": {
      "text/plain": [
       "1100022"
      ]
     },
     "execution_count": 2,
     "metadata": {},
     "output_type": "execute_result"
    }
   ],
   "source": [
    "1100022"
   ]
  },
  {
   "cell_type": "markdown",
   "metadata": {
    "editable": false,
    "slideshow": {
     "slide_type": ""
    },
    "tags": []
   },
   "source": [
    "**Optional Explanation:**"
   ]
  },
  {
   "cell_type": "markdown",
   "metadata": {
    "slideshow": {
     "slide_type": ""
    },
    "tags": []
   },
   "source": [
    "I first found the absolute value of 2013 which was 2202100. Then I took the one's complement which was 1100012 then added one in the end."
   ]
  },
  {
   "cell_type": "markdown",
   "metadata": {
    "editable": false,
    "id": "yzz4UTixG-I2",
    "slideshow": {
     "slide_type": ""
    },
    "tags": []
   },
   "source": [
    "# Problem 2: Additions and Multiplications [12.5 points]"
   ]
  },
  {
   "cell_type": "markdown",
   "metadata": {
    "editable": false,
    "slideshow": {
     "slide_type": ""
    },
    "tags": []
   },
   "source": [
    "## Part 2.1: Ripple Carry Adder [2.5 points]\n",
    "\n",
    "Consider a 32-bit ripple carry adder which is implemented using 32 identical full adders, each with inputs $a$, $b$, $cin$, and outputs $sum$ and $cout$. Each full adder has a delay of 1 ns from $a$, $b$, or $cin$ to $cout$, and a delay of 6 ns from $a$, $b$, or $cin$ to $sum$. \n",
    "\n",
    "How long will this 32-bit ripple carry adder take, in the worst case, to perform the complete 32-bit addition (i.e., produce both the 32-bit sum and the final carry-out)? Write your answer as base-10 integer without any units, e.g., write 10 if the adder will take 10 ns."
   ]
  },
  {
   "cell_type": "code",
   "execution_count": null,
   "metadata": {
    "id": "CtN68h-KHItf",
    "slideshow": {
     "slide_type": ""
    },
    "tags": []
   },
   "outputs": [],
   "source": [
    "38"
   ]
  },
  {
   "cell_type": "markdown",
   "metadata": {
    "editable": false,
    "slideshow": {
     "slide_type": ""
    },
    "tags": []
   },
   "source": [
    "**Optional Explanation:**"
   ]
  },
  {
   "cell_type": "markdown",
   "metadata": {
    "slideshow": {
     "slide_type": ""
    },
    "tags": []
   },
   "source": [
    "How it would work is that you have 32 carries which is the worst case. All carries/couts take 1 ns and while you're giving the next full adder the carry you can process the sum. This happens until the final full adder outputs its carry out after 32 ns and then has to process its sum which takes 6 ns. "
   ]
  },
  {
   "cell_type": "markdown",
   "metadata": {
    "editable": false,
    "slideshow": {
     "slide_type": ""
    },
    "tags": []
   },
   "source": [
    "## Part 2.2: Carry Select Adder [2.5 points]\n",
    "\n",
    "Now consider a 32-bit carry select adder with stages (from the least significant to the most significant direction, i.e., right to left as drawn in the lectures) handling 2, 2, 3, 4, 6, 7, and 8 bits, respectively. \n",
    "\n",
    "This carry select adder is made using the same full adders as in the previous subquestion and 2-to-1 multiplexors where the delay from any of the inputs (select or data) to the output is 1 ns.\n",
    "\n",
    "Furthermore, assume that each full adder and each 2-to-1 multiplexor has a silicon area cost of 2. In such a setting, the area cost of the 32-bit ripple carry adder in the previous subquestion would be $32 \\times 2$. What is the area cost of the 32-bit carry select adder as described above? Write your answer as a base-10 integer, e.g., 53."
   ]
  },
  {
   "cell_type": "code",
   "execution_count": null,
   "metadata": {
    "id": "CtN68h-KHItf",
    "slideshow": {
     "slide_type": ""
    },
    "tags": []
   },
   "outputs": [],
   "source": [
    "196"
   ]
  },
  {
   "cell_type": "markdown",
   "metadata": {
    "editable": false,
    "slideshow": {
     "slide_type": ""
    },
    "tags": []
   },
   "source": [
    "**Optional Explanation:**"
   ]
  },
  {
   "cell_type": "markdown",
   "metadata": {
    "slideshow": {
     "slide_type": ""
    },
    "tags": []
   },
   "source": [
    "Let's count the full adders first. For each stage, we have 2x the number of blocks for bits OTHER THAN the first stage (since we're given what the initial cin is which is usually 0). As a result we do 2 + 4 + 6 + 8 + 12 + 14 + 16 = 62. As for the multiplexers we have a multiplexer chaining all the full adders together to get cout except the first 2 bit to 2 bit, so we have 6 total multiplexers here. Then for each stage we have the number of bits number of multiplexer except for the first 2 bits, so we have 30 multiplexers here too. Then we add them all up and get 62 * 2 + 36 * 2 = 196 area cost."
   ]
  },
  {
   "cell_type": "markdown",
   "metadata": {
    "editable": false,
    "slideshow": {
     "slide_type": ""
    },
    "tags": []
   },
   "source": [
    "## Part 2.3: Carry Select Adder (contd.) [5 points]\n",
    "\n",
    "Continuing with the previous, how many ns (nanoseconds) will this 32-bit carry-select carry adder take, in the worst case, to perform the complete 32-bit addition (i.e., produce both the 32-bit sum and the final carry-out)? Write your answer as a base-10 integer without any units, e.g., write 10 if the adder will take 10 ns."
   ]
  },
  {
   "cell_type": "code",
   "execution_count": null,
   "metadata": {
    "id": "CtN68h-KHItf",
    "slideshow": {
     "slide_type": ""
    },
    "tags": []
   },
   "outputs": [],
   "source": [
    "49"
   ]
  },
  {
   "cell_type": "markdown",
   "metadata": {
    "editable": false,
    "slideshow": {
     "slide_type": ""
    },
    "tags": []
   },
   "source": [
    "**Optional Explanation:**"
   ]
  },
  {
   "cell_type": "markdown",
   "metadata": {
    "slideshow": {
     "slide_type": ""
    },
    "tags": []
   },
   "source": [
    "Each stage has a maximum delay of 7 ns because the full carry takes 6 ns but we get bottlenecked by the multiplexer too that takes 1ns. As a result we have 7ns * 7 stages = 49ns."
   ]
  },
  {
   "cell_type": "markdown",
   "metadata": {
    "editable": false,
    "slideshow": {
     "slide_type": ""
    },
    "tags": []
   },
   "source": [
    "## Part 2.4: Multiplication Bits [2.5 points]\n",
    "\n",
    "If we multiply an 10-bit unsigned number $A$ with an 11-bit unsigned number $B$, how many bits do we need to hold the product $A \\times B$ so that there is never an overflow (i.e., the product will always fit in that many bits)? Your answer must be a base-10 integer, e.g. 5."
   ]
  },
  {
   "cell_type": "code",
   "execution_count": null,
   "metadata": {
    "id": "CtN68h-KHItf",
    "slideshow": {
     "slide_type": ""
    },
    "tags": []
   },
   "outputs": [],
   "source": [
    "25"
   ]
  },
  {
   "cell_type": "markdown",
   "metadata": {
    "editable": false,
    "slideshow": {
     "slide_type": ""
    },
    "tags": []
   },
   "source": [
    "**Optional Explanation:**"
   ]
  },
  {
   "cell_type": "markdown",
   "metadata": {
    "slideshow": {
     "slide_type": ""
    },
    "tags": []
   },
   "source": [
    "The maximum number the 10-bit unsigned number and 11-bit unsigned number can hold is 1023 and 2047 respectively. Multiplying them gives us 20971521 and if we log2 it we get a ceiling of 25."
   ]
  },
  {
   "cell_type": "markdown",
   "metadata": {
    "editable": false,
    "id": "yzz4UTixG-I2",
    "slideshow": {
     "slide_type": ""
    },
    "tags": []
   },
   "source": [
    "# Problem 3: Working with Real Numbers [22.5 points]"
   ]
  },
  {
   "cell_type": "markdown",
   "metadata": {
    "editable": false,
    "slideshow": {
     "slide_type": ""
    },
    "tags": []
   },
   "source": [
    "## Part 3.1: Unsigned Fixed Point to Decimal [2.5 points]\n",
    "\n",
    "Consider 10-bit fixed-point numbers representing unsigned real values with a 4-bit fractional part. What is the base-10 value (it will, in general, be a real number) represented by the bitvector 1110111110 in such a representation? Express you answer as a base-10 real number in regular (non-scientific) notation, e.g., 10.32."
   ]
  },
  {
   "cell_type": "code",
   "execution_count": null,
   "metadata": {
    "id": "CtN68h-KHItf",
    "slideshow": {
     "slide_type": ""
    },
    "tags": []
   },
   "outputs": [],
   "source": [
    "59.875"
   ]
  },
  {
   "cell_type": "markdown",
   "metadata": {
    "editable": false,
    "slideshow": {
     "slide_type": ""
    },
    "tags": []
   },
   "source": [
    "**Optional Explanation:**"
   ]
  },
  {
   "cell_type": "markdown",
   "metadata": {
    "slideshow": {
     "slide_type": ""
    },
    "tags": []
   },
   "source": [
    "I calculated the first 6 bits by adding 32 + 16 + 8 + 2 + 1 and then added the decimal part by adding 1/2 + 1/4 + 1/8. "
   ]
  },
  {
   "cell_type": "markdown",
   "metadata": {
    "editable": false,
    "slideshow": {
     "slide_type": ""
    },
    "tags": []
   },
   "source": [
    "## Part 3.2: Signed Fixed Point to Decimal [2.5 points]\n",
    "\n",
    "What will be decimal value if the same bitvector 1110111110 represented a 10-bit two's complement signed real-valued number with a 4-bit fractional part? Express you answer as a base-10 real number in regular (non-scientific) notation, e.g. 10.32, -10.32, etc."
   ]
  },
  {
   "cell_type": "code",
   "execution_count": null,
   "metadata": {
    "id": "CtN68h-KHItf",
    "slideshow": {
     "slide_type": ""
    },
    "tags": []
   },
   "outputs": [],
   "source": [
    "-4.125"
   ]
  },
  {
   "cell_type": "markdown",
   "metadata": {
    "editable": false,
    "slideshow": {
     "slide_type": ""
    },
    "tags": []
   },
   "source": [
    "**Optional Explanation:**"
   ]
  },
  {
   "cell_type": "markdown",
   "metadata": {
    "slideshow": {
     "slide_type": ""
    },
    "tags": []
   },
   "source": [
    "It's the same concept: just have the MSB be the negative power of the number. So I got -32 + 16 + 8 + 2 + 1 + 1/2 + 1/4 + 1/8"
   ]
  },
  {
   "cell_type": "markdown",
   "metadata": {
    "editable": false,
    "slideshow": {
     "slide_type": ""
    },
    "tags": []
   },
   "source": [
    "## Part 3.3: Decimal to Signed Fixed Point [2.5 points]\n",
    "\n",
    "How will you represent the decimal value 3\\.86009 in 9-bit two's complement signed real-valued number with a 4-bit fractional part so that the magnitude of error between the desired value 3\\.86009 and the actual value value represented by the bits is minimized? Your answer will be a 9-bit string of 0s and 1s, e.g., for an 8-bit two's complement signed real-valued number with a 3-bit fractional part the answer may be 01101011 with integer and fractional part being 01101 and 011 respectively."
   ]
  },
  {
   "cell_type": "code",
   "execution_count": null,
   "metadata": {
    "id": "CtN68h-KHItf",
    "slideshow": {
     "slide_type": ""
    },
    "tags": []
   },
   "outputs": [],
   "source": [
    "00011.1110"
   ]
  },
  {
   "cell_type": "markdown",
   "metadata": {
    "editable": false,
    "slideshow": {
     "slide_type": ""
    },
    "tags": []
   },
   "source": [
    "**Optional Explanation:**"
   ]
  },
  {
   "cell_type": "markdown",
   "metadata": {
    "slideshow": {
     "slide_type": ""
    },
    "tags": []
   },
   "source": [
    "The first 5 bits represents the integer part, and since we need 3 it's just 00011. To get as close as we can to .86009 the closest number we can achieve is 0.875 if we're only given a 4-bit fractional part. "
   ]
  },
  {
   "cell_type": "markdown",
   "metadata": {
    "editable": false,
    "slideshow": {
     "slide_type": ""
    },
    "tags": []
   },
   "source": [
    "## Part 3.4: Bits Needed for General Case of Unsigned Fixed Point Addition [2.5 points]\n",
    "\n",
    "Consider adding two unsigned fixed-point numbers, one with $n_1$-bits total and a $f_1$-bits fractional part, and the other with $n_2$-bits total and a $f_2$-bits fractional part. What is the minimum number of total bits needed so that in the worst case the output can be represented exactly How many of those need to be assigned to the fractional part? Provide you answer and reasoning in the provided box below. \n",
    "\n",
    "**Note that you should replace the text currently in the box below instead of adding a new box.**"
   ]
  },
  {
   "cell_type": "markdown",
   "metadata": {
    "slideshow": {
     "slide_type": ""
    },
    "tags": []
   },
   "source": [
    "We need to fine the maximum of both numbers and add them to be able to ensure that we have the proper amount of bits that there will be no overflow. The fractional part is actually relatively easy enough, as we only need number of bits for the fractional part that has the most bits. So we take the max of f1 and f2 to find the total number of bits we need for the fraction. As for the integer part, the max you can get for either number is 2^n1 - 1 and 2^n2 - 1. We take the ceiling of the log of the sum of these two values to get the maximum number of bits we need to represent the whole part. So the total number of bits is the ceiling of log2 of (2^n1 - 1) + (2^n2 - 1) + max(f1, f2)"
   ]
  },
  {
   "cell_type": "markdown",
   "metadata": {
    "editable": false,
    "slideshow": {
     "slide_type": ""
    },
    "tags": []
   },
   "source": [
    "## Part 3.5: Bfloat16 Floating Point to Decimal [2.5 points]\n",
    "\n",
    "General purpose programming languages have 32-bit and 64-bit floating point numbers (e.g., float and double in C/C++) to represent real values. However as they are an overkill for many specialized applications such as graphics, machine learning, sensor processing, embedded computing, etc., floating point representations have emerged that use fewer bits. One such format is _bfloat16_ (brain floating point) was developed by Google's AI research group Google Brain for AI and machine learning. Many CPUs, GPUs, and AI processors, support it. \n",
    "\n",
    "The following figure shows bfloat16's format, where there is a 1 bit sign field (S), an 8 bit exponent field (an unsigned intefer E), and a 7 bit fraction field (an unsigned integer F). \n",
    "\n",
    "![](https://raw.githubusercontent.com/UCLA-ECEM16/assets/main/2024-Spring/bfloat16.png)\n",
    "\n",
    "Of note,\n",
    "* |Sign bit (S) being 1 means negative number, and 0 means positive number.\n",
    "* Exponent is encoded in field E with an offset of 127, so that the true value of exponent is 127 plus the unsigned value in E. Moreover values of all 0s or all 1s in the exponent field are reserved to represent special numbers. So for example if E = 00000001, then that means exponent is 1-127 = -126, and if E = 11111110 then exponent is 254-127 = 127.\n",
    "* Mantissa is assumed to be of the form (1 + a 7-bit fraction), and the 7-bit field F encodes the bits in fractional part of the mantissa.\n",
    "\n",
    "As a result if S, E, and F were to be interpreted as unsigned integers of 1, 8, and 7 bits respectively, then the real value represented is $(-1)^S \\times 2^{E-127} \\times (1 + F \\times 2^{-7})$ (assuming the 8-bit E is neither 0 nor 255, which require special handling).\n",
    "\n",
    "Armed with the above knowledge, what decimal real value is represented by the 16-bit bitvector 1101100010100001 that encodes a bfloat16? You may either standard _integer.fraction_ notation (e.g., 31.41) or scientific notation (e.g, 3.141E1), and you answer should be accurate to within 0.1% of the actual value, although you should be able to express the exact value eaasily."
   ]
  },
  {
   "cell_type": "code",
   "execution_count": null,
   "metadata": {
    "id": "CtN68h-KHItf",
    "slideshow": {
     "slide_type": ""
    },
    "tags": []
   },
   "outputs": [],
   "source": [
    "-1.416170977E15"
   ]
  },
  {
   "cell_type": "markdown",
   "metadata": {
    "editable": false,
    "slideshow": {
     "slide_type": ""
    },
    "tags": []
   },
   "source": [
    "**Optional Explanation:**"
   ]
  },
  {
   "cell_type": "markdown",
   "metadata": {
    "slideshow": {
     "slide_type": ""
    },
    "tags": []
   },
   "source": [
    "The value of S was 1, the value of E was 10110001 = 177, the value of F is 0100001 = 33. We get -1 * 2^(177-127) * (1 + 33*2^-7) = -1.416170977E15."
   ]
  },
  {
   "cell_type": "markdown",
   "metadata": {
    "editable": false,
    "slideshow": {
     "slide_type": ""
    },
    "tags": []
   },
   "source": [
    "## Part 3.6: Bfloat16 of Largest Positive Value [2.5 points]\n",
    "\n",
    "What is the largest base-10 positive (>0) real number that bfloat16 can represent? Write your answer as a base-10 real number using either standard _integer.fraction_ notation or scientific notation. You answer should be accurate to within 0.1% of the real value, although you should be able to express the exact value easily. E.g., your answer may be 31.40625, or it may be 3.140625E1."
   ]
  },
  {
   "cell_type": "code",
   "execution_count": 1,
   "metadata": {
    "id": "CtN68h-KHItf",
    "slideshow": {
     "slide_type": ""
    },
    "tags": []
   },
   "outputs": [
    {
     "data": {
      "text/plain": [
       "3.389531389e+38"
      ]
     },
     "execution_count": 1,
     "metadata": {},
     "output_type": "execute_result"
    }
   ],
   "source": [
    "3.389531389E38"
   ]
  },
  {
   "cell_type": "markdown",
   "metadata": {
    "editable": false,
    "slideshow": {
     "slide_type": ""
    },
    "tags": []
   },
   "source": [
    "**Optional Explanation:**"
   ]
  },
  {
   "cell_type": "markdown",
   "metadata": {
    "slideshow": {
     "slide_type": ""
    },
    "tags": []
   },
   "source": [
    "S should be 0 while all the other values should be 1 (except E since it can't be 255). This gets us E = 254 and F = 127. This will net us 2^(254-127) * (1 + 127 * 2^-7) = 3.389531389 * 10^38"
   ]
  },
  {
   "cell_type": "markdown",
   "metadata": {
    "editable": false,
    "slideshow": {
     "slide_type": ""
    },
    "tags": []
   },
   "source": [
    "## Part 3.7: Bfloat16 of Smallest Positive Value [2.5 points]\n",
    "\n",
    "What is the smallest base-10 positive (>0) real number that bfloat16 can represent? Write your answer as a base-10 real number using either standard _integer.fraction_ notation or scientific notation. You answer should be accurate to within 0.1% of the real value, although you should be able to express the exact value easily. E.g., your answer may be 31.40625, or it may be 3.140625E1."
   ]
  },
  {
   "cell_type": "code",
   "execution_count": null,
   "metadata": {
    "id": "CtN68h-KHItf",
    "slideshow": {
     "slide_type": ""
    },
    "tags": []
   },
   "outputs": [],
   "source": [
    "1.175494351E-38"
   ]
  },
  {
   "cell_type": "markdown",
   "metadata": {
    "editable": false,
    "slideshow": {
     "slide_type": ""
    },
    "tags": []
   },
   "source": [
    "**Optional Explanation:**"
   ]
  },
  {
   "cell_type": "markdown",
   "metadata": {
    "slideshow": {
     "slide_type": ""
    },
    "tags": []
   },
   "source": [
    "Sign should be 0 while all other bits should be 0 to minimize value, except E should be 1. This gives us 2^-126"
   ]
  },
  {
   "cell_type": "markdown",
   "metadata": {
    "editable": false,
    "slideshow": {
     "slide_type": ""
    },
    "tags": []
   },
   "source": [
    "## Part 3.8: Decimal to Bfloat16 Floating Point [5 points]\n",
    "\n",
    "How would you represent the Square Root of 2 in bfloat16 while minimizing the magnitude of the error between the actual value of the Square Root of 2 and the value represented by the bfloat16 representation? Write your answer as a length 16 string of 0s and 1s, e.g., 0100000001001001 (which incidentally is bfloat16 representation closest to $\\pi$ and corresponds to 3.140625, thus resulting in a relative error of about 0.03% error)."
   ]
  },
  {
   "cell_type": "code",
   "execution_count": null,
   "metadata": {
    "id": "CtN68h-KHItf",
    "slideshow": {
     "slide_type": ""
    },
    "tags": []
   },
   "outputs": [],
   "source": [
    "0011111110110101"
   ]
  },
  {
   "cell_type": "markdown",
   "metadata": {
    "editable": false,
    "slideshow": {
     "slide_type": ""
    },
    "tags": []
   },
   "source": [
    "**Optional Explanation:**"
   ]
  },
  {
   "cell_type": "markdown",
   "metadata": {
    "slideshow": {
     "slide_type": ""
    },
    "tags": []
   },
   "source": [
    "Sign should be 0 obviously. Sqrt 2 is approximately 1.41421356 and in binary it's approximately 1.0110101. Since we see 1 + F * 2^-7 we should try to make E = 127 so 2 ^ (E - 127) zero. We should set F to 0110101 as it's the fractional part of the approximation of sqrt 2. As a result our answer should be 0011111110110101"
   ]
  }
 ],
 "metadata": {
  "colab": {
   "authorship_tag": "ABX9TyNxS/ytAWtdXjWx+oqRBaSU",
   "collapsed_sections": [
    "giKItPXLH-NX",
    "RtOtKx0PLHcV",
    "MwDdsI4oNvIn",
    "-jaTKxa0OmC6",
    "Q2XOg1H-PmzF"
   ],
   "provenance": []
  },
  "kernelspec": {
   "display_name": "Python 3 (ipykernel)",
   "language": "python",
   "name": "python3"
  },
  "language_info": {
   "codemirror_mode": {
    "name": "ipython",
    "version": 3
   },
   "file_extension": ".py",
   "mimetype": "text/x-python",
   "name": "python",
   "nbconvert_exporter": "python",
   "pygments_lexer": "ipython3",
   "version": "3.9.12"
  }
 },
 "nbformat": 4,
 "nbformat_minor": 4
}
