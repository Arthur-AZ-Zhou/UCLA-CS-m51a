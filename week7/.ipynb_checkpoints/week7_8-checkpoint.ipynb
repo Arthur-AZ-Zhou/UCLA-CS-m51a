{
 "cells": [
  {
   "cell_type": "markdown",
   "id": "92186f5f",
   "metadata": {},
   "source": [
    "# Problem"
   ]
  },
  {
   "cell_type": "markdown",
   "id": "ab635f6a",
   "metadata": {},
   "source": [
    "Imagine we have a JK flip-flop with output Q = 0, what will be the output value after we apply the next sequence of input signals to lines J and K respectively? Each element in the list is a 2-bit number corresponding to JK, each element represents a time step: ['00', '00', '11', '00', '01']. Write only the output bit for Q."
   ]
  },
  {
   "cell_type": "code",
   "execution_count": null,
   "id": "a6b03569",
   "metadata": {
    "ans": 0,
    "question": 0
   },
   "outputs": [],
   "source": [
    "0"
   ]
  },
  {
   "cell_type": "markdown",
   "id": "755ce6b8",
   "metadata": {},
   "source": [
    "It literally doesn't matter that Q gets toggled because if the last input value is a 01 meaning that J = 0 and K = 1, Q should always return 0 as that's what is dictated for a JK flip flop."
   ]
  }
 ],
 "metadata": {
  "kernelspec": {
   "display_name": "Python 3 (ipykernel)",
   "language": "python",
   "name": "python3"
  },
  "language_info": {
   "codemirror_mode": {
    "name": "ipython",
    "version": 3
   },
   "file_extension": ".py",
   "mimetype": "text/x-python",
   "name": "python",
   "nbconvert_exporter": "python",
   "pygments_lexer": "ipython3",
   "version": "3.9.12"
  }
 },
 "nbformat": 4,
 "nbformat_minor": 5
}
