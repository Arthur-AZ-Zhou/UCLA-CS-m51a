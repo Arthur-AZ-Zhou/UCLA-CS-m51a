{
 "cells": [
  {
   "cell_type": "markdown",
   "id": "9a2bfb80",
   "metadata": {},
   "source": [
    "# Problem"
   ]
  },
  {
   "cell_type": "markdown",
   "id": "6096c047",
   "metadata": {},
   "source": [
    "Reduce the following Boolean expression to a minimum number of literals: $(~A & B) | (~A & ~C) | (B & C)$. Put your result in the cell below. Use the disjunctive normal form (Several minterms OR’ed in a sum-of-products/SOP). (Note: Do not put irrelevant symbols/texts as we will check the result using python scripts in autograder automatically."
   ]
  },
  {
   "cell_type": "code",
   "execution_count": null,
   "id": "e23b9693",
   "metadata": {},
   "outputs": [],
   "source": [
    "(~A & ~C) | (B & C)"
   ]
  },
  {
   "cell_type": "markdown",
   "id": "b9a55ae8",
   "metadata": {},
   "source": [
    "Describe how did you solve the problem (like what properties you use) in the cell below."
   ]
  },
  {
   "cell_type": "markdown",
   "id": "c2238199",
   "metadata": {},
   "source": [
    "I was able to utilize the redundancy theorem, it being: \n",
    "1) The expression has 3 variables\n",
    "2) Each variable is expressed exactly twice\n",
    "3) Only ONE variable is complemented\n",
    "4) \"Take\" the literals with the complemented variable.\n",
    "\n",
    "From our problem, we see that C is the only complemented variable. So we can dive into (~A & B) and turn it into 1 & ~A & B = (~C | C) & ~A & B = (~C & ~A & B) | (C & ~A & B). We can plug it into the overall equation and get: (~C & ~A & B) | (C & ~A & B) | (~A & ~C) | (B & C). From this we can cancel the first two terms and get our answer (~A & ~C) | (B & C)."
   ]
  }
 ],
 "metadata": {
  "kernelspec": {
   "display_name": "Python 3 (ipykernel)",
   "language": "python",
   "name": "python3"
  },
  "language_info": {
   "codemirror_mode": {
    "name": "ipython",
    "version": 3
   },
   "file_extension": ".py",
   "mimetype": "text/x-python",
   "name": "python",
   "nbconvert_exporter": "python",
   "pygments_lexer": "ipython3",
   "version": "3.9.12"
  }
 },
 "nbformat": 4,
 "nbformat_minor": 5
}
