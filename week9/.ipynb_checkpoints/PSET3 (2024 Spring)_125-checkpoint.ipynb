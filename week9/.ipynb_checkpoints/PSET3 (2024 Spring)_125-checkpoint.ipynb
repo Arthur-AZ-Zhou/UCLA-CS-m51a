{
 "cells": [
  {
   "cell_type": "markdown",
   "metadata": {
    "editable": false,
    "slideshow": {
     "slide_type": ""
    },
    "tags": []
   },
   "source": [
    "# Spring 2024 ECE M16: PSET 3 (ver. 1.1)"
   ]
  },
  {
   "cell_type": "markdown",
   "metadata": {
    "slideshow": {
     "slide_type": ""
    },
    "tags": []
   },
   "source": [
    "## Student Name: _ZHOU, ARTHUR_"
   ]
  },
  {
   "cell_type": "markdown",
   "metadata": {
    "editable": false,
    "slideshow": {
     "slide_type": ""
    },
    "tags": []
   },
   "source": [
    "## Instructions (Please read !!!):\n",
    "\n",
    "**1. This notebook is personalized for you. Make sure you have downloaded the notebook that was listed against your name.**\n",
    "\n",
    "**2. Deadline to submit is as listed on Gradescope.**\n",
    "\n",
    "**3. You can make three submission attempts. We do not count submissions detected to have tampered with notebook cells that prevent grading (e.g. if there are more or fewer cells than expected or there is a match of cell type). For the first attempt, the Autograder will only perform some basic sanity checks on the basic format of your answer and return a score of 0. It will, however, not check or provide feedback on the correctness of your answer. For example, if the answer has to be a list of base-10 integers, then the sanity check will check whether you indeed provided10 a list of base-10 integers. Likewise, if the answer asks for a logic expression, the sanity check will check whether your answer is indeed a valid logic expression (however, it will not check whether the variable names used are correct). For the second and third attempts, the Autograder will also report whether your answer is correct or not, but it will not tell you what the correct answer is or why your answer is wrong.**\n",
    "\n",
    "**4. If we discover a bug in the Autograder, we will compensate the impacted students with an extra attempt only for the impacted question. For other questions unaffected by the bug, the score the end of third attempt will be used.**\n",
    "\n",
    "**5. Please do not edit, move, or delete any of the cells. You must only write in the cells provided for your answers while adhering strictly to the format requirements. Otherwise, the Autograder cannot grade, and even though we do not count the attempt, it will cause you needless panic.**\n",
    "\n",
    "**6. Most problems/subproblems will be auto-graded, and it is critically important that you strictly adhere to the formatting requirements for the answers. A few will be graded manually, and there you are allowed free-form text, either plain text or in Markdown format.**\n",
    "\n",
    "**7. After every problem or subproblem, we have provided a cell where you can optionally provide a brief explanation of your solution approach. By default, we will not grade the explanation but use it if your answer is marked wrong by the autograder or the human grader, and you request a regrade. No regrade request will be entertained unless an explanation of how you derived your answer is provided. The explanation cells can accept text in Markdown format.**"
   ]
  },
  {
   "cell_type": "markdown",
   "metadata": {
    "editable": false,
    "id": "yzz4UTixG-I2",
    "slideshow": {
     "slide_type": ""
    },
    "tags": []
   },
   "source": [
    "# Problem 1: Sequential Systems Fundamentals [10.0 points]"
   ]
  },
  {
   "cell_type": "markdown",
   "metadata": {
    "editable": false,
    "slideshow": {
     "slide_type": ""
    },
    "tags": []
   },
   "source": [
    "## Part 1.1: States with JKFF? [2.5 points]\n",
    "\n",
    "What is the maximum number of states a circuit with $n$ JK flip-flops can be in? Select the correct option from the list below.\n",
    "\n",
    "1. $n$\n",
    "1. $2^{2n}$\n",
    "1. $2^n$\n",
    "1. $2n$\n",
    "1. None of the other choices\n",
    "1. $n^2$\n",
    "\n",
    "Your answer should be a base-10 integer corresponding to the correct option."
   ]
  },
  {
   "cell_type": "code",
   "execution_count": null,
   "metadata": {
    "id": "CtN68h-KHItf",
    "slideshow": {
     "slide_type": ""
    },
    "tags": []
   },
   "outputs": [],
   "source": [
    "3"
   ]
  },
  {
   "cell_type": "markdown",
   "metadata": {
    "editable": false,
    "slideshow": {
     "slide_type": ""
    },
    "tags": []
   },
   "source": [
    "**Optional Explanation:**"
   ]
  },
  {
   "cell_type": "markdown",
   "metadata": {
    "slideshow": {
     "slide_type": ""
    },
    "tags": []
   },
   "source": [
    "Each flip flop can be in 1 of 2 states, so we have 2^n combinations."
   ]
  },
  {
   "cell_type": "markdown",
   "metadata": {
    "editable": false,
    "slideshow": {
     "slide_type": ""
    },
    "tags": []
   },
   "source": [
    "## Part 1.2: Chained FSMs [2.5 points]\n",
    "\n",
    "Consider a digital system $S$ composed of 4 interconnected sequential logic subsystems $A$, $B$, $C$, and $D$ which have {{3, 5, 4, and 6 states respectively. What is the maximum number of possible states in the system $S$?\n",
    "\n",
    "Your answer should be a base-10 integer."
   ]
  },
  {
   "cell_type": "code",
   "execution_count": null,
   "metadata": {
    "id": "CtN68h-KHItf",
    "slideshow": {
     "slide_type": ""
    },
    "tags": []
   },
   "outputs": [],
   "source": [
    "360"
   ]
  },
  {
   "cell_type": "markdown",
   "metadata": {
    "editable": false,
    "slideshow": {
     "slide_type": ""
    },
    "tags": []
   },
   "source": [
    "**Optional Explanation:**"
   ]
  },
  {
   "cell_type": "markdown",
   "metadata": {
    "slideshow": {
     "slide_type": ""
    },
    "tags": []
   },
   "source": [
    "Since each subsytem can only be in one state at a time, there is 3x5x4x6 possible combination of states that could be in system S, which leads us to 360."
   ]
  },
  {
   "cell_type": "markdown",
   "metadata": {
    "editable": false,
    "slideshow": {
     "slide_type": ""
    },
    "tags": []
   },
   "source": [
    "## Part 1.3: Chained FSMs (contd.) [2.5 points]\n",
    "\n",
    "Assuming $A$, $B$, $C$, and $D$ in the preceding part are all implemented separately using JK Flipflop (JKFF), at least how many JKFFs are needed to implement $S$?\n",
    "\n",
    "Your answer should be a base-10 integer."
   ]
  },
  {
   "cell_type": "code",
   "execution_count": null,
   "metadata": {
    "id": "CtN68h-KHItf",
    "slideshow": {
     "slide_type": ""
    },
    "tags": []
   },
   "outputs": [],
   "source": [
    "10"
   ]
  },
  {
   "cell_type": "markdown",
   "metadata": {
    "editable": false,
    "slideshow": {
     "slide_type": ""
    },
    "tags": []
   },
   "source": [
    "**Optional Explanation:**"
   ]
  },
  {
   "cell_type": "markdown",
   "metadata": {
    "slideshow": {
     "slide_type": ""
    },
    "tags": []
   },
   "source": [
    "Since they're all implemented separately, we take the log2 ceiling of each of the subsystems and add them up. This gets us 2 + 3 + 2 + 3 = 10."
   ]
  },
  {
   "cell_type": "markdown",
   "metadata": {
    "editable": false,
    "slideshow": {
     "slide_type": ""
    },
    "tags": []
   },
   "source": [
    "## Part 1.4: Well-formed State Diagram [2.5 points]\n",
    "\n",
    "Consider a node in the state diagram of a finite state machine. Let this node have $n$ outgoing edges corresponding to the next state transitions from this state. Let $c_1, c_2, \\cdots c_n$ be the boolean expressions (in terms of input signals) corresponding to the trigger conditions for these edges. From the statements below, select the smallest subset of statements necessary and sufficient for the state transitions (including their triggers and actions) to be well-formed. By well-formed, we mean the resulting FSM does not exhibit an error.\n",
    "\n",
    "1. $c_i | c_j = 1, \\forall i, j \\in 1, 2, \\cdots n, i \\neq j$\n",
    "1. $c_i | c_j = 0, \\forall i, j \\in 1, 2, \\cdots n, i \\neq j$\n",
    "1. $c_1 \\& c_2 \\& \\cdots \\& c_n = 0$\n",
    "1. $c_1 \\& c_2 \\& \\cdots \\& c_n = 1$\n",
    "1. $c_1 | c_2 | \\cdots | c_n = 1$\n",
    "1. $c_i \\& c_j = 1, \\forall i, j \\in 1, 2, \\cdots n, i \\neq j$\n",
    "1. $c_1 | c_2 | \\cdots | c_n = 0$\n",
    "1. $c_i \\& c_j = 0, \\forall i, j \\in 1, 2, \\cdots n, i \\neq j$\n",
    "\n",
    "Your answer should be a list of decimal integers corresponding to the choices necessary and sufficient for well-formedness. The list may be empty (write it as \\[]), have only one element (e.g., \\[1]), or may have multiple elements (e.g., \\[1,2,3])."
   ]
  },
  {
   "cell_type": "code",
   "execution_count": null,
   "metadata": {
    "id": "CtN68h-KHItf",
    "slideshow": {
     "slide_type": ""
    },
    "tags": []
   },
   "outputs": [],
   "source": [
    "[5,8]"
   ]
  },
  {
   "cell_type": "markdown",
   "metadata": {
    "editable": false,
    "slideshow": {
     "slide_type": ""
    },
    "tags": []
   },
   "source": [
    "**Optional Explanation:**"
   ]
  },
  {
   "cell_type": "markdown",
   "metadata": {
    "slideshow": {
     "slide_type": ""
    },
    "tags": []
   },
   "source": [
    "Option 5 ensures that there's at least one state that is true so that the machine can move onto the next state, option 8 ensures that no two states are valid at the same time."
   ]
  },
  {
   "cell_type": "markdown",
   "metadata": {
    "editable": false,
    "slideshow": {
     "slide_type": ""
    },
    "tags": []
   },
   "source": [
    "# Problem 2: Analyzing Timing [15 points]"
   ]
  },
  {
   "cell_type": "markdown",
   "metadata": {
    "editable": false,
    "slideshow": {
     "slide_type": ""
    },
    "tags": []
   },
   "source": [
    "Consider the following sequential circuit when answering the various subquestions below:\n",
    "\n",
    "![](https://raw.githubusercontent.com/UCLA-ECEM16/assets/main/2024-Spring/PSET3/ckt3.png)\n",
    "\n",
    "(**Note:** if an image doesn't show up above, please click on [this link](https://raw.githubusercontent.com/UCLA-ECEM16/assets/main/2024-Spring/PSET3/ckt3.png)).\n",
    "\n",
    "Each of the edge-triggered D flip-flops has a setup time of $t_s$, a hold time of $t_h$, a propagation delay of $t_{dCQ} = 4~ns$, and a contamination delay of $t_{cCQ} = 2~ns$. Assume that X meets setup and hold time requirements and that the clock frequency is 100MHz."
   ]
  },
  {
   "cell_type": "markdown",
   "metadata": {
    "editable": false,
    "slideshow": {
     "slide_type": ""
    },
    "tags": []
   },
   "source": [
    "## Part 2.1: Constraint on set up time [2 points]\n",
    "\n",
    "For the circuit shown above to operate correctly, what constraint on $t_s$ is necessary? For example, an answer might say $t_s \\gt $ 8 ns or $t_2 \\le $ 8 ns.\n",
    "\n",
    "Note: This question will be graded manually."
   ]
  },
  {
   "cell_type": "markdown",
   "metadata": {
    "slideshow": {
     "slide_type": ""
    },
    "tags": []
   },
   "source": [
    "6ns >= t_s"
   ]
  },
  {
   "cell_type": "markdown",
   "metadata": {
    "editable": false,
    "slideshow": {
     "slide_type": ""
    },
    "tags": []
   },
   "source": [
    "**Optional Explanation:**"
   ]
  },
  {
   "cell_type": "markdown",
   "metadata": {
    "slideshow": {
     "slide_type": ""
    },
    "tags": []
   },
   "source": [
    "We know t_cy >= t_dCQ + t_dMax + t_s. We know t_dMax is equal to 0ns as there's no combinational logic. We're also given t_dCQ and we take the reciprocal of the frequency of the clock frequency (100MHz) to get t_cy which is 10ns. We plug in numbers to get 10 >= 4 + 0 + t_s getting us 6 >= t_s"
   ]
  },
  {
   "cell_type": "markdown",
   "metadata": {
    "editable": false,
    "slideshow": {
     "slide_type": ""
    },
    "tags": []
   },
   "source": [
    "## Part 2.2: Constraint on hold time [2 points]\n",
    "\n",
    "For the circuit shown above to operate correctly, what constraint on $t_h$ is necessary? For example, an answer might say $t_h \\gt $ 8 ns or $t_h \\le $ 8 ns.\n",
    "\n",
    "\n",
    "Note: This question will be graded manually."
   ]
  },
  {
   "cell_type": "markdown",
   "metadata": {
    "slideshow": {
     "slide_type": ""
    },
    "tags": []
   },
   "source": [
    "t_h <= 2ns"
   ]
  },
  {
   "cell_type": "markdown",
   "metadata": {
    "editable": false,
    "slideshow": {
     "slide_type": ""
    },
    "tags": []
   },
   "source": [
    "**Optional Explanation:**"
   ]
  },
  {
   "cell_type": "markdown",
   "metadata": {
    "slideshow": {
     "slide_type": ""
    },
    "tags": []
   },
   "source": [
    "We know t_h <= t_cCQ + t_cMin. t_cMin is just 0 ns because there's no combinational circuit meaning that t_h <= 2ns"
   ]
  },
  {
   "cell_type": "markdown",
   "metadata": {
    "editable": false,
    "slideshow": {
     "slide_type": ""
    },
    "tags": []
   },
   "source": [
    "## Part 2.3: Waveform Timing [2 points]\n",
    "\n",
    "Consider the following waveform plot for the circuit above.\n",
    "\n",
    "Assume that the input X is always stable from $t_s$ before the rising edge of the clock to $t_h$ after the rising edge of the clock and that the time instant $T$ is more than $t_{dCQ}$ after the immediately preceding rising edge of the clock. What are the states of the D flip-flops from left to right at time instant $T$?\n",
    "\n",
    "![](https://raw.githubusercontent.com/UCLA-ECEM16/assets/main/2024-Spring/PSET3/waveform1.png)\n",
    "\n",
    "(**Note:** if an image doesn't show up above, please click on [this link](https://raw.githubusercontent.com/UCLA-ECEM16/assets/main/2024-Spring/PSET3/waveform1.png)).\n",
    "\n",
    "Your answer will be a bitvector of length=4, e.g., 0X10, where the leftmost bit indicates the state of the leftmost DFF in the circuit, and the rightmost bit indicates the state of the rightmost DFF in the circuit above. Use X to indicate that the state of a DFF is unknown.\n",
    "\n",
    "**Note:** The light gray vertical dotted lines are just a time grid and do not represent clocks. The clock signal is given explicitly as the waveform for $sysclk$."
   ]
  },
  {
   "cell_type": "code",
   "execution_count": null,
   "metadata": {
    "slideshow": {
     "slide_type": ""
    },
    "tags": []
   },
   "outputs": [],
   "source": [
    "0110"
   ]
  },
  {
   "cell_type": "markdown",
   "metadata": {
    "editable": false,
    "slideshow": {
     "slide_type": ""
    },
    "tags": []
   },
   "source": [
    "**Optional Explanation:**"
   ]
  },
  {
   "cell_type": "markdown",
   "metadata": {
    "slideshow": {
     "slide_type": ""
    },
    "tags": []
   },
   "source": [
    "If you draw out the value of the first Q for the first DFF, you get 0. Since the clock edge was rising and the first input would be 0, that means that all the other DFFs take the input which would consistently be 0 resulting in only 0's being stored in the DFF chain."
   ]
  },
  {
   "cell_type": "markdown",
   "metadata": {
    "editable": false,
    "slideshow": {
     "slide_type": ""
    },
    "tags": []
   },
   "source": [
    "## Part 2.4: Reasoning about $t_s$ and $t_h$ [3 points]\n",
    "\n",
    "Consider the circuit below where CL is some combinational logic block whose contamination and propagation delays are both $20~ps$. The DFF has setup and hold times that are both $2~ps$.\n",
    "\n",
    "![](https://raw.githubusercontent.com/UCLA-ECEM16/assets/main/2024-Spring/PSET3/ckt4.png)\n",
    "\n",
    "(**Note:** if an image doesn't show up above, please click on [this link](https://raw.githubusercontent.com/UCLA-ECEM16/assets/main/2024-Spring/PSET3/ckt4.png)).\n",
    "\n",
    "Assume a clock edge occurs at $t=100~ps$. In what time window would $X$ need to be stable so that the stable value of $X$ in that time window will be successfully stored in the DFF by the clock edge at  $t=100~ps$?\n",
    "\n",
    "Your answer should be a list of two decimal numbers without units, e.g., \\[98,102], where the first number indicates the start of the time window in which $X$ must be stable ($98~ps$ in our example) and the second number indicates the end of the time window in which $X$ must be stable ($102~ps$ in our example).\n",
    "\n",
    "For credit, both answers should be correct."
   ]
  },
  {
   "cell_type": "code",
   "execution_count": null,
   "metadata": {
    "slideshow": {
     "slide_type": ""
    },
    "tags": []
   },
   "outputs": [],
   "source": [
    "[78,82]"
   ]
  },
  {
   "cell_type": "markdown",
   "metadata": {
    "editable": false,
    "slideshow": {
     "slide_type": ""
    },
    "tags": []
   },
   "source": [
    "**Optional Explanation:**"
   ]
  },
  {
   "cell_type": "markdown",
   "metadata": {
    "slideshow": {
     "slide_type": ""
    },
    "tags": []
   },
   "source": [
    "100 +- 2 is [98,102], and we have to subtract 20 from both."
   ]
  },
  {
   "cell_type": "markdown",
   "metadata": {
    "editable": false,
    "slideshow": {
     "slide_type": ""
    },
    "tags": []
   },
   "source": [
    "## Part 2.5: Reasoning about $t_s$ and $t_h$ (contd.) [3 points]\n",
    "\n",
    "One can think of the setup time $t_s$ and the hold time $t_h$ as defining an interval $[t_{edge}-t_s,t_{edge}+t_h]$ (where $t_{edge}$ is the time instant that the clock edge occurs) during which a signal must be stable for the flip-flop to store the value successfully. Moreover, $t_s$ and $t_h$ may be negative, and all that matters is that $t_{edge}-t_s \\le t_{edge}+t_h$.\n",
    "\n",
    "Based on your answers to the preceding sub-question, what are the set-up time and hold time for $X$?\n",
    "\n",
    "Your answer should be a list of two decimal numbers without units, e.g., \\[-2,5], where the first number indicates the setup time of $X$ in ps ($-2~ps$ in our example) and the second number indicates the hold time $X$ ($=5~ps$ in our example).\n",
    "\n",
    "For credit, both values need to be correct."
   ]
  },
  {
   "cell_type": "code",
   "execution_count": null,
   "metadata": {
    "slideshow": {
     "slide_type": ""
    },
    "tags": []
   },
   "outputs": [],
   "source": [
    "[22, -18]"
   ]
  },
  {
   "cell_type": "markdown",
   "metadata": {
    "editable": false,
    "slideshow": {
     "slide_type": ""
    },
    "tags": []
   },
   "source": [
    "**Optional Explanation:**"
   ]
  },
  {
   "cell_type": "markdown",
   "metadata": {
    "slideshow": {
     "slide_type": ""
    },
    "tags": []
   },
   "source": [
    "Given our interval was [78,82], it's only reasonable that our interval would be [22,-18]"
   ]
  },
  {
   "cell_type": "markdown",
   "metadata": {
    "editable": false,
    "slideshow": {
     "slide_type": ""
    },
    "tags": []
   },
   "source": [
    "## Part 2.6: Reasoning about $t_s$ and $t_h$ (contd.) [3 points]\n",
    "\n",
    "A designer modified the CL so that as shown in the figure its contamination and propagation delays are now $10~ps$ and $30~ps$ respectively. \n",
    "\n",
    "![](https://raw.githubusercontent.com/UCLA-ECEM16/assets/main/2024-Spring/PSET3/ckt5.png)\n",
    "\n",
    "(**Note:** if an image doesn't show up above, please click on [this link](https://raw.githubusercontent.com/UCLA-ECEM16/assets/main/2024-Spring/PSET3/ckt5.png)).\n",
    "\n",
    "What are the new set-up and hold times for $X$?\n",
    "\n",
    "Your answer should be a list of two decimal numbers without units, e.g., \\[-2,5], where the first number indicates the setup time of $X$ in ps ($-2~ps$ in our example) and the second number indicates the hold time $X$ ($=5~ps$ in our example).\n",
    "\n",
    "For credit, both values need to be correct."
   ]
  },
  {
   "cell_type": "code",
   "execution_count": 1,
   "metadata": {
    "slideshow": {
     "slide_type": ""
    },
    "tags": []
   },
   "outputs": [
    {
     "data": {
      "text/plain": [
       "[22, 22]"
      ]
     },
     "execution_count": 1,
     "metadata": {},
     "output_type": "execute_result"
    }
   ],
   "source": [
    "[32,-8]"
   ]
  },
  {
   "cell_type": "markdown",
   "metadata": {
    "editable": false,
    "slideshow": {
     "slide_type": ""
    },
    "tags": []
   },
   "source": [
    "**Optional Explanation:**"
   ]
  },
  {
   "cell_type": "markdown",
   "metadata": {
    "slideshow": {
     "slide_type": ""
    },
    "tags": []
   },
   "source": [
    "Instead of subtracting 20 from both subtract 10 from the first value and subtract 30 from the second. This gives us [88,72] and subtracting "
   ]
  },
  {
   "cell_type": "markdown",
   "metadata": {
    "editable": false,
    "slideshow": {
     "slide_type": ""
    },
    "tags": []
   },
   "source": [
    "# Problem 3: Optimizing States [10 points]"
   ]
  },
  {
   "cell_type": "markdown",
   "metadata": {
    "editable": false,
    "slideshow": {
     "slide_type": ""
    },
    "tags": []
   },
   "source": [
    "Consider an FSM with one 1-bit input  and one 1-bit output whose state table is shown below. In the table, $PS, NS, x,$ and $z$ represent the present state, the next state, the input, and the output respectively.\n",
    "\n",
    "![](https://raw.githubusercontent.com/UCLA-ECEM16/assets/main/2024-Spring/PSET3/statechart1.png)\n",
    "\n",
    "(**Note:** if an image doesn't show up above, please click on [this link](https://raw.githubusercontent.com/UCLA-ECEM16/assets/main/2024-Spring/PSET3/statechart1.png))."
   ]
  },
  {
   "cell_type": "markdown",
   "metadata": {
    "editable": false,
    "slideshow": {
     "slide_type": ""
    },
    "tags": []
   },
   "source": [
    "## Part 3.1: All Equivalent States [4 points]\n",
    "\n",
    "Using the implication chart approach, identify all the equivalent states, list them below in the required format. \n",
    "\n",
    "For your convenience, we have placed a blank implication chart as a google doc at this [URL](https://docs.google.com/document/d/1iPXIto3mjVI5_yC7WYs2jipe1FXVM4xG1Hs8M3BPcHo). You can make a copy and fill it out or use scratch paper. You'll need to provide images of the Implication Chat after every step to show your work and provide us with a URL in the next part.\n",
    "\n",
    "Your answer should be in the form of a list of tuples where each tuple corresponds to a set of 2 or more equivalent states. Say you find that states A, B, and C are equivalent, and states D and E are also equivalent, then you'll write \\[(A,B,C),(D,E)]. If there are no equivalent states, your answer will be the empty list []."
   ]
  },
  {
   "cell_type": "code",
   "execution_count": null,
   "metadata": {
    "slideshow": {
     "slide_type": ""
    },
    "tags": []
   },
   "outputs": [],
   "source": [
    "[(A,C),(B,D)]"
   ]
  },
  {
   "cell_type": "markdown",
   "metadata": {
    "editable": false,
    "slideshow": {
     "slide_type": ""
    },
    "tags": []
   },
   "source": [
    "**Optional Explanation:**"
   ]
  },
  {
   "cell_type": "markdown",
   "metadata": {
    "slideshow": {
     "slide_type": ""
    },
    "tags": []
   },
   "source": [
    "After running the implication chart the only two equivalent states we get is B = D. We can also come to the conclusion that A and C are also the same."
   ]
  },
  {
   "cell_type": "markdown",
   "metadata": {
    "editable": false,
    "slideshow": {
     "slide_type": ""
    },
    "tags": []
   },
   "source": [
    "## Part 3.2: URL to Implication Chart Images [3 points]\n",
    "\n",
    "Put images of your implication charts (initial and after every step) into a single PDF file (you can use JPG or PNG if all your work is in a single sheet of paper), put that file on Google Drive, make it world-readable via sharing settings, and provide the URL below. You may use any other cloud service, such as Dropbox or OneDrive, as long as you can provide a world-readable URL.\n",
    "\n",
    "Put the URL in the answer cell below."
   ]
  },
  {
   "cell_type": "markdown",
   "metadata": {
    "slideshow": {
     "slide_type": ""
    },
    "tags": []
   },
   "source": [
    "https://drive.google.com/file/d/1Pirb1wxmb8HG4fApXMN_MeJ7NN_MmnZq/view?usp=drivesdk"
   ]
  },
  {
   "cell_type": "markdown",
   "metadata": {
    "editable": false,
    "slideshow": {
     "slide_type": ""
    },
    "tags": []
   },
   "source": [
    "## Part 3.3: How many states after reduction? [3 points]\n",
    "\n",
    "How many states will the optimized FSM have, after merging equivalent states? Your answer should be a base-10 integer."
   ]
  },
  {
   "cell_type": "code",
   "execution_count": null,
   "metadata": {
    "slideshow": {
     "slide_type": ""
    },
    "tags": []
   },
   "outputs": [],
   "source": [
    "4"
   ]
  },
  {
   "cell_type": "markdown",
   "metadata": {
    "editable": false,
    "slideshow": {
     "slide_type": ""
    },
    "tags": []
   },
   "source": [
    "**Optional Explanation:**"
   ]
  },
  {
   "cell_type": "markdown",
   "metadata": {
    "slideshow": {
     "slide_type": ""
    },
    "tags": []
   },
   "source": [
    "If we only find 2 pairs of equivalent states it means we can remove one of them and get 6-2 = 4 remaining states."
   ]
  },
  {
   "cell_type": "markdown",
   "metadata": {
    "editable": false,
    "slideshow": {
     "slide_type": ""
    },
    "tags": []
   },
   "source": [
    "# Problem 4: Sequential System Analysis [10.0 points]"
   ]
  },
  {
   "cell_type": "markdown",
   "metadata": {
    "editable": false,
    "slideshow": {
     "slide_type": ""
    },
    "tags": []
   },
   "source": [
    "Consider the following sequential circuit and answer the questions in the parts that follow. When answering, use standard boolean logic operators \\~, &, |, ^, and parentheses.\n",
    "\n",
    "![](https://raw.githubusercontent.com/UCLA-ECEM16/assets/main/2024-Spring/PSET3/ckt1.png)\n",
    "\n",
    "(**Note:** if an image doesn't show up above, please click on [this link](https://raw.githubusercontent.com/UCLA-ECEM16/assets/main/2024-Spring/PSET3/ck1.png))."
   ]
  },
  {
   "cell_type": "markdown",
   "metadata": {
    "editable": false,
    "slideshow": {
     "slide_type": ""
    },
    "tags": []
   },
   "source": [
    "## Part 4.1: $S0_{next}$ [1.5 points]\n",
    "\n",
    "Write the boolean logic expression for $S0_{next}$ in terms of $S0$ and $S1$."
   ]
  },
  {
   "cell_type": "code",
   "execution_count": null,
   "metadata": {
    "slideshow": {
     "slide_type": ""
    },
    "tags": []
   },
   "outputs": [],
   "source": [
    "(S1 & ~S0) | (~S1 & S0)"
   ]
  },
  {
   "cell_type": "markdown",
   "metadata": {
    "editable": false,
    "slideshow": {
     "slide_type": ""
    },
    "tags": []
   },
   "source": [
    "**Optional Explanation:**"
   ]
  },
  {
   "cell_type": "markdown",
   "metadata": {
    "slideshow": {
     "slide_type": ""
    },
    "tags": []
   },
   "source": [
    "Just S1 as it S0next outputs S1 at the next clock tick"
   ]
  },
  {
   "cell_type": "markdown",
   "metadata": {
    "editable": false,
    "slideshow": {
     "slide_type": ""
    },
    "tags": []
   },
   "source": [
    "## Part 4.2: $S1_{next}$ [1.5 points]\n",
    "\n",
    "Write the boolean logic expression for $S1_{next}$ in terms of $S0$ and $S1$."
   ]
  },
  {
   "cell_type": "code",
   "execution_count": null,
   "metadata": {
    "slideshow": {
     "slide_type": ""
    },
    "tags": []
   },
   "outputs": [],
   "source": [
    "~S0"
   ]
  },
  {
   "cell_type": "markdown",
   "metadata": {
    "editable": false,
    "slideshow": {
     "slide_type": ""
    },
    "tags": []
   },
   "source": [
    "**Optional Explanation:**"
   ]
  },
  {
   "cell_type": "markdown",
   "metadata": {
    "slideshow": {
     "slide_type": ""
    },
    "tags": []
   },
   "source": [
    "We simply rely on the XNOR gate to feed into the next input for S0. Since XNOR only returns 1 if both values are the same that's exactly what we enter."
   ]
  },
  {
   "cell_type": "markdown",
   "metadata": {
    "editable": false,
    "slideshow": {
     "slide_type": ""
    },
    "tags": []
   },
   "source": [
    "## Part 4.3: $Z$ [1 points]\n",
    "\n",
    "Write the boolean logic expression for $Z$ in terms of $S0$ and $S1$."
   ]
  },
  {
   "cell_type": "code",
   "execution_count": null,
   "metadata": {
    "slideshow": {
     "slide_type": ""
    },
    "tags": []
   },
   "outputs": [],
   "source": [
    "S0 & S1"
   ]
  },
  {
   "cell_type": "markdown",
   "metadata": {
    "editable": false,
    "slideshow": {
     "slide_type": ""
    },
    "tags": []
   },
   "source": [
    "**Optional Explanation:**"
   ]
  },
  {
   "cell_type": "markdown",
   "metadata": {
    "slideshow": {
     "slide_type": ""
    },
    "tags": []
   },
   "source": [
    "It's just both the end states AND'ed together"
   ]
  },
  {
   "cell_type": "markdown",
   "metadata": {
    "editable": false,
    "slideshow": {
     "slide_type": ""
    },
    "tags": []
   },
   "source": [
    "## Part 4.4: Isolated States [1.5 points]\n",
    "\n",
    "An  _isolated state_ is a state with the property that if the system starts in that state on power up, it stays there forever. Consider which of the following statements are true.\n",
    "\n",
    "1. S0=1, S1=0 is an isolated state\n",
    "1. S0=0, S1=1 is an isolated state\n",
    "1. S0=1, S1=1 is an isolated state\n",
    "1. S0=0, S1=0 is an isolated state\n",
    "1. This system does not have an isolated state\n",
    "\n",
    "Your answer should be a list of decimal integers corresponding to the true choices. The list must not include any incorrect choices. The list may be empty (write it as \\[]), have only one element (e.g., \\[1]), or may have multiple elements (e.g., \\[1,2,3]).\n"
   ]
  },
  {
   "cell_type": "code",
   "execution_count": null,
   "metadata": {
    "slideshow": {
     "slide_type": ""
    },
    "tags": []
   },
   "outputs": [],
   "source": [
    "[1]"
   ]
  },
  {
   "cell_type": "markdown",
   "metadata": {
    "editable": false,
    "slideshow": {
     "slide_type": ""
    },
    "tags": []
   },
   "source": [
    "**Optional Explanation:**"
   ]
  },
  {
   "cell_type": "markdown",
   "metadata": {
    "slideshow": {
     "slide_type": ""
    },
    "tags": []
   },
   "source": [
    "The isolated state is a toggle flip flop not a D flip flop, misread."
   ]
  },
  {
   "cell_type": "markdown",
   "metadata": {
    "editable": false,
    "slideshow": {
     "slide_type": ""
    },
    "tags": []
   },
   "source": [
    "## Part 4.5: Temporal Evolution of $Z$ [4.5 points]\n",
    "\n",
    "Let the system clock $sysclk$ have a frequency of 500 MHz, and assume that at time $t=0$ we had a rising edge of the clock and that both the state bits $S0$ and $S1$ were 0.  What will be the value of $Z$ at $t$ = 2 ns, 4 ns, 6 ns, and 8 ns respectively? Your answer should be a comma-separated list with four elements, each of which is 0 or 1 or X (unknown), and with the first element in the list corresponding to $Z$ at $t$ = 2 ns, the second to to $Z$ at $t$ = 4 ns, and so on. E.g., your answer may be \\[0,0,1,1] to indicate the  $Z$=0 at $t$ = 2 ns and 4 ns, and $Z$=1 at $t$ = 6 ns and 8 ns.\n",
    "\n",
    "**Note:** You must get all time instant correct in order to get credit."
   ]
  },
  {
   "cell_type": "code",
   "execution_count": null,
   "metadata": {
    "slideshow": {
     "slide_type": ""
    },
    "tags": []
   },
   "outputs": [],
   "source": [
    "[0,1,0,0]"
   ]
  },
  {
   "cell_type": "markdown",
   "metadata": {
    "editable": false,
    "slideshow": {
     "slide_type": ""
    },
    "tags": []
   },
   "source": [
    "**Optional Explanation:**"
   ]
  },
  {
   "cell_type": "markdown",
   "metadata": {
    "slideshow": {
     "slide_type": ""
    },
    "tags": []
   },
   "source": [
    "Toggle flip flop turns into a 1 from it's initial state of 0. Then the 1 from S1 is sent to S0 which toggles into its state from 1 to 0, meaning that XNOR returns 0. This 0 keeps the state of 1 from S1 and sends it to S0 which toggles its state getting us 0."
   ]
  },
  {
   "cell_type": "markdown",
   "metadata": {
    "editable": false,
    "slideshow": {
     "slide_type": ""
    },
    "tags": []
   },
   "source": [
    "# Problem 5: Improving System Performance [15.0 points]"
   ]
  },
  {
   "cell_type": "markdown",
   "metadata": {
    "editable": false,
    "slideshow": {
     "slide_type": ""
    },
    "tags": []
   },
   "source": [
    "In all the sub-questions below, assume that the registers being used have setup time $t_s=10~ps$, hold time $t_h=9~ps$, propagation delay $t_{dCQ}=12~ps$, and no clock skew. Note thast $ps$ means $picoseconds$ and equals $10^{-12}~s$, and $GOPS$ means _billion operations per second_ and equals $10^9$ operations/second."
   ]
  },
  {
   "cell_type": "markdown",
   "metadata": {
    "editable": false,
    "slideshow": {
     "slide_type": ""
    },
    "tags": []
   },
   "source": [
    "## Part 5.1: Baseline Throughput [2.5 points]\n",
    "\n",
    "Consider the datapath below and assume that the combination logic has a propagation delay 308 ps. \n",
    "\n",
    "![](https://raw.githubusercontent.com/UCLA-ECEM16/assets/main/2024-Spring/PSET3/dp1.jpg)\n",
    "\n",
    "(**Note:** if an image doesn't show up above, please click on [this link](https://raw.githubusercontent.com/UCLA-ECEM16/assets/main/2024-Spring/PSET3/dp1.jpg)).\n",
    "\n",
    "What is the maximum throughput of this system, i.e. the rate at which it can process data at input $X$? Your answer should be a real number in units of GOPS (Giga Operations per Second). Do not include units.  Your answer should be accurate to three digits after the decimal point. E.g., you answer could be 15.231."
   ]
  },
  {
   "cell_type": "code",
   "execution_count": null,
   "metadata": {
    "slideshow": {
     "slide_type": ""
    },
    "tags": []
   },
   "outputs": [],
   "source": [
    "3.030"
   ]
  },
  {
   "cell_type": "markdown",
   "metadata": {
    "editable": false,
    "slideshow": {
     "slide_type": ""
    },
    "tags": []
   },
   "source": [
    "**Optional Explanation:**"
   ]
  },
  {
   "cell_type": "markdown",
   "metadata": {
    "slideshow": {
     "slide_type": ""
    },
    "tags": []
   },
   "source": [
    "Total throughput is n_pipe/t_pipe = n_pipe/(308 + 12 + 10 + 0) = 0.00303..."
   ]
  },
  {
   "cell_type": "markdown",
   "metadata": {
    "editable": false,
    "slideshow": {
     "slide_type": ""
    },
    "tags": []
   },
   "source": [
    "## Part 5.2: Baseline Latency [2.5 points]\n",
    "\n",
    "Continuining with the preceding, what is the input to output latency? Specifically, we are looking for the delay between when an instance of a value of $X$ was stored at a clock edge in the input register (on the left) and the value obtained after processing it gets stored at a later clock edge in the output register (on the right)? Your answer should be a number in $ps$. Do not include units."
   ]
  },
  {
   "cell_type": "code",
   "execution_count": null,
   "metadata": {
    "slideshow": {
     "slide_type": ""
    },
    "tags": []
   },
   "outputs": [],
   "source": [
    "330"
   ]
  },
  {
   "cell_type": "markdown",
   "metadata": {
    "editable": false,
    "slideshow": {
     "slide_type": ""
    },
    "tags": []
   },
   "source": [
    "**Optional Explanation:**"
   ]
  },
  {
   "cell_type": "markdown",
   "metadata": {
    "slideshow": {
     "slide_type": ""
    },
    "tags": []
   },
   "source": [
    "_Replace this text with your explanation._"
   ]
  },
  {
   "cell_type": "markdown",
   "metadata": {
    "editable": false,
    "slideshow": {
     "slide_type": ""
    },
    "tags": []
   },
   "source": [
    "## Part 5.3: Throughput with Uniform Pipeline Stages [2.5 points]\n",
    "\n",
    "Now say we divide the combinational logic into three equal stages, each of which has a propagation delay of  308/3 ps. \n",
    "\n",
    "![](https://raw.githubusercontent.com/UCLA-ECEM16/assets/main/2024-Spring/PSET3/dp2.jpg)\n",
    "\n",
    "(**Note:** if an image doesn't show up above, please click on [this link](https://raw.githubusercontent.com/UCLA-ECEM16/assets/main/2024-Spring/PSET3/dp2.jpg)).\n",
    "\n",
    "\n",
    "What is the maximum throughput of this system, i.e. the rate at which it can process data at input $X$? Your answer should be a real number in units of GOPS (Giga Operations per Second). Do not include units.  Your answer should be accurate to three digits after the decimal point. E.g., you answer could be 15.231."
   ]
  },
  {
   "cell_type": "code",
   "execution_count": null,
   "metadata": {
    "slideshow": {
     "slide_type": ""
    },
    "tags": []
   },
   "outputs": [],
   "source": [
    "8.021"
   ]
  },
  {
   "cell_type": "markdown",
   "metadata": {
    "editable": false,
    "slideshow": {
     "slide_type": ""
    },
    "tags": []
   },
   "source": [
    "**Optional Explanation:**"
   ]
  },
  {
   "cell_type": "markdown",
   "metadata": {
    "slideshow": {
     "slide_type": ""
    },
    "tags": []
   },
   "source": [
    "This would simply be converting the t_stage from 308 to 308/3 and performing the same operation in 5.1"
   ]
  },
  {
   "cell_type": "markdown",
   "metadata": {
    "editable": false,
    "slideshow": {
     "slide_type": ""
    },
    "tags": []
   },
   "source": [
    "## Part 5.4: Latency with Uniform Pipeline Stages [2.5 points]\n",
    "\n",
    "Continuining with the preceding, what is the input to output latency? Specifically, we are looking for the delay between when an instance of a value of $X$ was stored at a clock edge in the input register (on the left) and the value obtained after processing it gets stored at a later clock edge in the output register (on the right)? Your answer should be a number in $ps$. Do not include units."
   ]
  },
  {
   "cell_type": "code",
   "execution_count": null,
   "metadata": {
    "slideshow": {
     "slide_type": ""
    },
    "tags": []
   },
   "outputs": [],
   "source": [
    "374"
   ]
  },
  {
   "cell_type": "markdown",
   "metadata": {
    "editable": false,
    "slideshow": {
     "slide_type": ""
    },
    "tags": []
   },
   "source": [
    "**Optional Explanation:**"
   ]
  },
  {
   "cell_type": "markdown",
   "metadata": {
    "slideshow": {
     "slide_type": ""
    },
    "tags": []
   },
   "source": [
    "3(308/3 + 10 + 12) = 374ns "
   ]
  },
  {
   "cell_type": "markdown",
   "metadata": {
    "editable": false,
    "slideshow": {
     "slide_type": ""
    },
    "tags": []
   },
   "source": [
    "## Part 5.5: Throughput with Non-uniform Pipeline Stages [2.5 points]\n",
    "\n",
    "Consider the the datapath below where there is a sequence of six combinational blocks, named A, B, C, D, E, and F, with propagation delays of Now suppose that the original combinational block is divided instead into a sequence of six blocks, named A, B, C, D, E, and F, with propagation delays of $80~ps$, $30~ps$, $60~ps$$, $$50~ps$, $70~ps$, and $10~ps$ respectively, as shown the figure below.\n",
    "\n",
    "![](https://raw.githubusercontent.com/UCLA-ECEM16/assets/main/2024-Spring/PSET3/dp3.jpg)\n",
    "\n",
    "(**Note:** if an image doesn't show up above, please click on [this link](https://raw.githubusercontent.com/UCLA-ECEM16/assets/main/2024-Spring/PSET3/dp3.jpg)).\n",
    "\n",
    "\n",
    "You are given two pipeline registers, and you seek maximum throughput. What throughput can you achieve (in GOPS, without units)? Your answer should be a real number in units of GOPS (Giga Operations per Second). Do not include units.  Your answer should be accurate to three digits after the decimal point. E.g., you answer could be 15.231."
   ]
  },
  {
   "cell_type": "code",
   "execution_count": null,
   "metadata": {
    "slideshow": {
     "slide_type": ""
    },
    "tags": []
   },
   "outputs": [],
   "source": [
    "7.576"
   ]
  },
  {
   "cell_type": "markdown",
   "metadata": {
    "editable": false,
    "slideshow": {
     "slide_type": ""
    },
    "tags": []
   },
   "source": [
    "**Optional Explanation:**"
   ]
  },
  {
   "cell_type": "markdown",
   "metadata": {
    "slideshow": {
     "slide_type": ""
    },
    "tags": []
   },
   "source": [
    "We put a pipe like this: | A B | C D | E F | to get the maximum duration as 110ps. We know t_s = 10ps and t_dCQ = 12ps. We can use this to calculate the latency by t_pipe = n_pipe(t_stage + t_dCQ + t_s + t_k) = 3(110 + 12 + 10) = 3 * 132. We divide this thru n_pipe/t_pipe = 1/132 = 7.57575757... "
   ]
  },
  {
   "cell_type": "markdown",
   "metadata": {
    "editable": false,
    "slideshow": {
     "slide_type": ""
    },
    "tags": []
   },
   "source": [
    "## Part 5.6: Latency with Non-iniform Pipeline Stages [2.5 points]\n",
    "\n",
    "Continuining with the preceding, what is the input to output latency? Specifically, we are looking for the delay between when an instance of a value of $X$ was stored at a clock edge in the input register (on the left) and the value obtained after processing it gets stored at a later clock edge in the output register (on the right)? Your answer should be a number in $ps$. Do not include units."
   ]
  },
  {
   "cell_type": "code",
   "execution_count": null,
   "metadata": {
    "slideshow": {
     "slide_type": ""
    },
    "tags": []
   },
   "outputs": [],
   "source": [
    "396"
   ]
  },
  {
   "cell_type": "markdown",
   "metadata": {
    "editable": false,
    "slideshow": {
     "slide_type": ""
    },
    "tags": []
   },
   "source": [
    "**Optional Explanation:**"
   ]
  },
  {
   "cell_type": "markdown",
   "metadata": {
    "slideshow": {
     "slide_type": ""
    },
    "tags": []
   },
   "source": [
    "Iterate through all 3 pipes. 3(110 + 10 + 12) = 396"
   ]
  },
  {
   "cell_type": "markdown",
   "metadata": {
    "editable": false,
    "id": "yzz4UTixG-I2",
    "slideshow": {
     "slide_type": ""
    },
    "tags": []
   },
   "source": [
    "# Problem 6: Latches and Flip Flops [10.0 points]"
   ]
  },
  {
   "cell_type": "markdown",
   "metadata": {
    "editable": false,
    "slideshow": {
     "slide_type": ""
    },
    "tags": []
   },
   "source": [
    "## Part 6.1: When does SR Latch remember? [2 points]\n",
    "\n",
    "Consider the circuit below, which is an S-R latch gated with an enable signal E. \n",
    "\n",
    "![](https://raw.githubusercontent.com/UCLA-ECEM16/assets/main/2024-Spring/SRLatchWithEnable.jpg)\n",
    "\n",
    "(**Note:** if an image doesn't show up above, please click on [this link](https://raw.githubusercontent.com/UCLA-ECEM16/assets/main/2024-Spring/SRLatchWithEnable.jpg)).\n",
    "\n",
    "Which combinations of E, S, and R does the circuit remember the current value of Q? \n",
    "\n",
    "1. S=0, R=1, E=0\n",
    "1. S=0, R=0, E=1\n",
    "1. S=1, R=0, E=1\n",
    "1. S=0, R=1, E=1\n",
    "1. S=0, R=0, E=0\n",
    "1. S=1, R=1, E=0\n",
    "1. S=1, R=1, E=1\n",
    "1. S=1, R=0, E=0\n",
    "\n",
    "Your answer should be in the form of a list of option # from below, including all the correct ones and no incorrect ones. For example, your answer could be \\[] to indicate that no option works, \\[2] to indicate that only option 2 works, an \\[2,4,5] to indicate that only options 2, 4, and 5 work."
   ]
  },
  {
   "cell_type": "code",
   "execution_count": null,
   "metadata": {
    "id": "CtN68h-KHItf",
    "slideshow": {
     "slide_type": ""
    },
    "tags": []
   },
   "outputs": [],
   "source": [
    "[1,2,5,6,8]"
   ]
  },
  {
   "cell_type": "markdown",
   "metadata": {
    "editable": false,
    "slideshow": {
     "slide_type": ""
    },
    "tags": []
   },
   "source": [
    "**Optional Explanation:**"
   ]
  },
  {
   "cell_type": "markdown",
   "metadata": {
    "slideshow": {
     "slide_type": ""
    },
    "tags": []
   },
   "source": [
    "We know that the valid states are when S = R = X if E = 0 and S = 0, R = 0, E = 1"
   ]
  },
  {
   "cell_type": "markdown",
   "metadata": {
    "editable": false,
    "slideshow": {
     "slide_type": ""
    },
    "tags": []
   },
   "source": [
    "## Part 6.2: Gated D Latch [2 points]\n",
    "\n",
    "Related to the gated S-R latch circuit is a gated D latch circuit shown below: \n",
    "\n",
    "![](https://raw.githubusercontent.com/UCLA-ECEM16/assets/main/2024-Spring/GatedDLatch.jpg)\n",
    "\n",
    "(**Note:** if an image doesn't show up above, please click on [this link](https://raw.githubusercontent.com/UCLA-ECEM16/assets/main/2024-Spring/GatedDLatch.jpg)).\n",
    "\n",
    "At time _t_,  E and D become E=0 and D=1. Furthermore, let Q be the current value of output signal Q just before that instant. What is the new logic value on Qb? Your answer would be either a boolean logic constant (0, or 1), or a logic expression (using the standard operators &, |, and \\~, and parenthesis) in terms of Q and/or \\~Q."
   ]
  },
  {
   "cell_type": "code",
   "execution_count": null,
   "metadata": {
    "id": "CtN68h-KHItf",
    "slideshow": {
     "slide_type": ""
    },
    "tags": []
   },
   "outputs": [],
   "source": [
    "~Q"
   ]
  },
  {
   "cell_type": "markdown",
   "metadata": {
    "editable": false,
    "slideshow": {
     "slide_type": ""
    },
    "tags": []
   },
   "source": [
    "**Optional Explanation:**"
   ]
  },
  {
   "cell_type": "markdown",
   "metadata": {
    "slideshow": {
     "slide_type": ""
    },
    "tags": []
   },
   "source": [
    "If E = 0, we know that the next logical value of Q is equal to its previous value regardless of the value of D or Q's previous value. Since Qb is the opposite of Q it turns into ~Q."
   ]
  },
  {
   "cell_type": "markdown",
   "metadata": {
    "editable": false,
    "slideshow": {
     "slide_type": ""
    },
    "tags": []
   },
   "source": [
    "## Part 6.3: JK Flip-Flop from T Flip-Flop [1.5 points]\n",
    "\n",
    "You are given one T Flip-Flop with input $T$ and output $QT$, and need to make a JK Flip-Flop out of it with inputs $J$ and $K$, and output $Q$. You are allowed to use any combinational logic in addition to the T Flip-Flop. Think of the JK Flip-Flop as a sequential system being built using one T Flip Flip and combinational logic.\n",
    "\n",
    "Derive the boolean logic expressions for $T$ and $Q$ in terms of $J$, $K$, and $QT$ (not all three may be needed). In other words, write boolean logic expressions for combination logic functions that generate $T$ and $Q$ using $J$, $K$, and $QT$. You will write the expression for $T$ in this part and for $Q$ in the following part. Note that your design is considered correct only if the two expressions together work to form a JK Flip-Flop. \n",
    "\n",
    "Write the logic expression for $T$ in the cell below. Use standard boolean operators &, |, and ~ in your answer, and parenthesis '(' and ')' as necessary.  Your answer must be just the expression without any \"T=\" in the expression."
   ]
  },
  {
   "cell_type": "code",
   "execution_count": null,
   "metadata": {
    "id": "CtN68h-KHItf",
    "slideshow": {
     "slide_type": ""
    },
    "tags": []
   },
   "outputs": [],
   "source": [
    "(J & ~QT) | (K & QT)"
   ]
  },
  {
   "cell_type": "markdown",
   "metadata": {
    "editable": false,
    "slideshow": {
     "slide_type": ""
    },
    "tags": []
   },
   "source": [
    "**Optional Explanation:**"
   ]
  },
  {
   "cell_type": "markdown",
   "metadata": {
    "slideshow": {
     "slide_type": ""
    },
    "tags": []
   },
   "source": [
    "When J = 0 and K = 0, JK holds state so T flip flop shouldn't toggle. T = 0\n",
    "When J = 0 and K = 1, JK resets Q_next = 0, so T flip flop should = 0 if it isn't alr (toggle if Q_T = 1). T = Q_T\n",
    "When J = 1 and K = 0, JK sets Q_next = 1, T flip flop should = 1 if it isn't alr (toggle if Q_T = 0). T = ~Q_T\n",
    "When J = 1 and K = 1, JK toggles and so does T flip flop. T = 1"
   ]
  },
  {
   "cell_type": "markdown",
   "metadata": {
    "editable": false,
    "slideshow": {
     "slide_type": ""
    },
    "tags": []
   },
   "source": [
    "## Part 6.4: JK Flip-Flop from T Flip-Flop (contd.) [0.5 points]\n",
    "\n",
    "Continuing with the previous part, write in the cell below the logic expression for $Q$. Use standard boolean operators &, |, and ~ in your answer, and parenthesis '(' and ')' as necessary. Your answer must be just the expression without any \"Q=\" in the expression."
   ]
  },
  {
   "cell_type": "code",
   "execution_count": null,
   "metadata": {
    "id": "CtN68h-KHItf",
    "slideshow": {
     "slide_type": ""
    },
    "tags": []
   },
   "outputs": [],
   "source": [
    "QT"
   ]
  },
  {
   "cell_type": "markdown",
   "metadata": {
    "editable": false,
    "slideshow": {
     "slide_type": ""
    },
    "tags": []
   },
   "source": [
    "**Optional Explanation:**"
   ]
  },
  {
   "cell_type": "markdown",
   "metadata": {
    "slideshow": {
     "slide_type": ""
    },
    "tags": []
   },
   "source": [
    "We know Q = T XOR Q_T. Substituting in what we know we get Q = ((J & ~QT) | (K & QT)) XOR Q_T. This will simplify to (J & ~QT) | (~K & QT) with the help of asking Chatgpt to simplify."
   ]
  },
  {
   "cell_type": "markdown",
   "metadata": {
    "editable": false,
    "slideshow": {
     "slide_type": ""
    },
    "tags": []
   },
   "source": [
    "## Part 6.5: JK Flip-Flop Behavior [2 points]\n",
    "\n",
    "Consider a JK Flip-FLop with initial state Q=0, and the inputs J and K at each clock tick as per the table below.\n",
    "\n",
    "| Clock Cycle | J Input | K Input | Q Output |\n",
    "|:---:|:---:|:---:|:---:|\n",
    "| 0           | -       | -       | 0|\n",
    "| 1           |1|0|          |\n",
    "| 2           |0|1|          |\n",
    "| 3           |1|1|          |\n",
    "| 4           |0|0|          |\n",
    "| 5           |1|1|          |\n",
    "\n",
    "What are the values of Q right after clock ticks 1 through 5? Give your answer as a comma-separated list with five elements, where each element is 0 or 1 or X (to indicate unknown). E.g., your answer could be \\[0,1,0,X,1]."
   ]
  },
  {
   "cell_type": "code",
   "execution_count": null,
   "metadata": {
    "id": "CtN68h-KHItf",
    "slideshow": {
     "slide_type": ""
    },
    "tags": []
   },
   "outputs": [],
   "source": [
    "[1,0,1,1,0]"
   ]
  },
  {
   "cell_type": "markdown",
   "metadata": {
    "editable": false,
    "slideshow": {
     "slide_type": ""
    },
    "tags": []
   },
   "source": [
    "**Optional Explanation:**"
   ]
  },
  {
   "cell_type": "markdown",
   "metadata": {
    "slideshow": {
     "slide_type": ""
    },
    "tags": []
   },
   "source": [
    "If J = 1 and K = 0, Q is 1\n",
    "If J = 0 and K = 1, Q = 0\n",
    "If J = 1 and K = 1, Q toggles so we get 1\n",
    "If J = 0 and K = 0, Q stays the same so we get 1\n",
    "If J = 1 and K = 1, Q toggles so we get 0"
   ]
  },
  {
   "cell_type": "markdown",
   "metadata": {
    "editable": false,
    "slideshow": {
     "slide_type": ""
    },
    "tags": []
   },
   "source": [
    "## Part 6.6: D Flip-Flop Behavior [2 points]\n",
    "\n",
    "Consider the following sequential circuit and assume that the D Flip-flops are ideal with zero delays, setup and hold times (i.e., $t_s = t_h = t_{cCQ} = t_{dCQ} = 0$). Also, please ignore the default values shown in the input and output pins when you answer the question.\n",
    "\n",
    "![](https://raw.githubusercontent.com/UCLA-ECEM16/assets/main/2024-Spring/PSET3/ckt2.jpg)\n",
    "\n",
    "(**Note:** if an image doesn't show up above, please click on [this link](https://raw.githubusercontent.com/UCLA-ECEM16/assets/main/2024-Spring/PSET3/ckt2.jpg)).\n",
    "\n",
    "Assume that $WE=1$ throughout and that at rising clock edge #1, 2, and 3, $D_2D_1D_0=$ 010, 101, and 001, respectively. What is the value of $F_2F_1F_0$ after rising clock edge #3? Write your answer as a bit vector of 3 bits (the bits maybe 0, 1, or X for unknown) where the leftmost bit is $F_2$, the middle one is $F_1$, and the rightmost one is $F_0$. E.g., an answer of 1X0 will indicate $F_2=1$, $F_1=$unknown, and $F_0=0$."
   ]
  },
  {
   "cell_type": "code",
   "execution_count": null,
   "metadata": {
    "id": "CtN68h-KHItf",
    "slideshow": {
     "slide_type": ""
    },
    "tags": []
   },
   "outputs": [],
   "source": [
    "101"
   ]
  },
  {
   "cell_type": "markdown",
   "metadata": {
    "editable": false,
    "slideshow": {
     "slide_type": ""
    },
    "tags": []
   },
   "source": [
    "**Optional Explanation:**"
   ]
  },
  {
   "cell_type": "markdown",
   "metadata": {
    "slideshow": {
     "slide_type": ""
    },
    "tags": []
   },
   "source": [
    "Since there are 2 flip flops we just use the 2nd input we get which is 101"
   ]
  },
  {
   "cell_type": "markdown",
   "metadata": {
    "editable": false,
    "slideshow": {
     "slide_type": ""
    },
    "tags": []
   },
   "source": [
    "# Problem 7: Finite State or Not? [10.0 points]"
   ]
  },
  {
   "cell_type": "markdown",
   "metadata": {
    "editable": false,
    "slideshow": {
     "slide_type": ""
    },
    "tags": []
   },
   "source": [
    "The concept of _state_ in sequential systems is critical. In a finite number of bits stored in a state register at a given time, the _state_ encapsulates all the relevant information about the previously observed inputs since the system started. The system uses the information in the _state_ to determine future behavior based on new inputs. However, not all problems can be solved using a state expressed in a finite number of bits; some problems inherently require the entire observed history of inputs, which keeps growing ad infinitum as time passes.\n",
    "\n",
    "In each of the subparts below, we present a problem, and you need to think about and decide whether it can be solved in a system with a finite number of states. You would need to provide a sufficiently rigorous justification. Specifically, if you believe the problem can be handled by a sequential system with a finite number of state bits (and thus a finite number of states), describe informally what the states will be and how the system will work. Otherwise, if you believe that a finite state machine cannot handle the problem, then argue why not. We are looking for not more than a paragraph, hopefully a short one."
   ]
  },
  {
   "cell_type": "markdown",
   "metadata": {
    "editable": false,
    "slideshow": {
     "slide_type": ""
    },
    "tags": []
   },
   "source": [
    "## Part 7.1: Parity Checker [2.5 points]\n",
    "\n",
    "Consider a digital system that receives 0 or 1 on its one-bit input and determines the parity (odd or even) of the bit-vector formed by the bits received thus far. \n",
    "\n",
    "Can this be implemented using a finite state machine with a fixed number of state bits? Explain your reasoning. \n",
    "\n",
    "Answer in the next cell."
   ]
  },
  {
   "cell_type": "markdown",
   "metadata": {
    "slideshow": {
     "slide_type": ""
    },
    "tags": []
   },
   "source": [
    "Yes, we can set 1 as the number of 1's are currently odd and 0 as the number of 1's currently even.\n",
    "\n",
    "Transitions:\n",
    "If system is in state 0 and receives another 0, stay in state 0.\n",
    "If system is in state 0 and receives a 1, go to state 1.\n",
    "If system is in state 1 and receives a 0, stay in state 1.\n",
    "If system is in state 1 and receives another 1, go to state 0."
   ]
  },
  {
   "cell_type": "markdown",
   "metadata": {
    "editable": false,
    "slideshow": {
     "slide_type": ""
    },
    "tags": []
   },
   "source": [
    "## Part 7.2: Detecting Palindromes [2.5 points]\n",
    "\n",
    "Consider a digital system that receives 7-bit ASCII characters on its input. At any time instant $t$ it outputs a 1 if the string formed by all the characters received thus far is palindromic (a palindrome is a word, number, phrase, or a sequence of symbols that reads the same backward as it does forward, e.g., ECE, madam, Hannah, and the famous palindromic sentence by Napoleon 'Able was I ere I saw Elba.'\n",
    "\n",
    "Can this be implemented using a finite state machine with a fixed number of state bits? Explain your reasoning. \n",
    "\n",
    "Answer in the next cell."
   ]
  },
  {
   "cell_type": "markdown",
   "metadata": {
    "slideshow": {
     "slide_type": ""
    },
    "tags": []
   },
   "source": [
    "No, because we don't actually know how large our string is. If we have to store information within a string to compare it to the end of the string, if we aren't actually given the size of the string we can't do it with a fixed number of state bits. The string can grow infinitely and is unable to be stored in a finite machine."
   ]
  },
  {
   "cell_type": "markdown",
   "metadata": {
    "editable": false,
    "slideshow": {
     "slide_type": ""
    },
    "tags": []
   },
   "source": [
    "## Part 7.3: Detecting Prime Numbers [2.5 points]\n",
    "\n",
    "Consider a digital system that thinks of all the input bits received thus far at a time instant $t$ as an unsigned number $X$, with the latest input bit being the least significant bit of $X$, and the oldest input bit being the most significant bit of $X$. At any instant $t$, the system's output $F$ is 1 if the $X$ is a prime number, and 0 otherwise.  \n",
    "\n",
    "Can this be implemented using a finite state machine with a fixed number of state bits? Explain your reasoning. \n",
    "\n",
    "Answer in the next cell."
   ]
  },
  {
   "cell_type": "markdown",
   "metadata": {
    "slideshow": {
     "slide_type": ""
    },
    "tags": []
   },
   "source": [
    "This is not possible, because to check if a number is prime you have to check up to the floor of the square root of the number by checking for divisibility. This is a problem as if the number is to grow infinitely there's more to check. Since we aren't given a limit on the value this means that we're unable to store the information needed in a finite state machine as the state bits will grow to infinity too. "
   ]
  },
  {
   "cell_type": "markdown",
   "metadata": {
    "editable": false,
    "slideshow": {
     "slide_type": ""
    },
    "tags": []
   },
   "source": [
    "## Part 7.4: Detecting Unlucky Numbers [2.5 points]\n",
    "\n",
    "Consider a digital system that thinks of all the input bits received thus far at a time instant $t$ as an unsigned number $X$, with the latest input bit being the least significant bit of $X$, and the oldest input bit being the most significant bit of $X$. At any instant $t$, the system's output $F$ is 1 if the $X$ is divisible by 13 and 0 otherwise. \n",
    "\n",
    "Can this be implemented using a finite state machine with a fixed number of state bits? Explain your reasoning. \n",
    "\n",
    "Answer in the next cell."
   ]
  },
  {
   "cell_type": "markdown",
   "metadata": {
    "slideshow": {
     "slide_type": ""
    },
    "tags": []
   },
   "source": [
    "Yes, as we can use the mod13 function giving us a maximum of 13 states: 0, 1, ..., 12. Whenever we got a new input bit we can update the remainder by transitioning to another one of the 12 other states from the one we were currently in. For example if we got a new bit we would do (new_bit + remainder * 2) mod (13 * remainder). This way we are able to account for the binary input.x "
   ]
  }
 ],
 "metadata": {
  "colab": {
   "authorship_tag": "ABX9TyNxS/ytAWtdXjWx+oqRBaSU",
   "collapsed_sections": [
    "giKItPXLH-NX",
    "RtOtKx0PLHcV",
    "MwDdsI4oNvIn",
    "-jaTKxa0OmC6",
    "Q2XOg1H-PmzF"
   ],
   "provenance": []
  },
  "kernelspec": {
   "display_name": "Python 3 (ipykernel)",
   "language": "python",
   "name": "python3"
  },
  "language_info": {
   "codemirror_mode": {
    "name": "ipython",
    "version": 3
   },
   "file_extension": ".py",
   "mimetype": "text/x-python",
   "name": "python",
   "nbconvert_exporter": "python",
   "pygments_lexer": "ipython3",
   "version": "3.9.12"
  }
 },
 "nbformat": 4,
 "nbformat_minor": 4
}
