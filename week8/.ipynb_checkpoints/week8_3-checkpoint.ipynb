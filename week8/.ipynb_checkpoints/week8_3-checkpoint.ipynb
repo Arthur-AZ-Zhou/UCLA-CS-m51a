{
 "cells": [
  {
   "cell_type": "markdown",
   "id": "db37a029",
   "metadata": {},
   "source": [
    "# Problem"
   ]
  },
  {
   "cell_type": "markdown",
   "id": "dc1e96e5",
   "metadata": {},
   "source": [
    "Assume we are analyzing the timing requirements for a circuit that consists of a Flip Flop connected to some combinational logic and then to another Flip Flop.                       If we know that the first Flip Flop has a contamination delay ($t_{cCQ}$) of 10 ps and a propagation delay ($t_{dCQ}$) of 30 ps;                         and the combinational logic has a contamination delay ($t_{c}$) of 50 ps and a propagation delay ($t_{d}$) of 80 ps.                       Our hold time for the second Flip Flop should be equal or less than which value? The answer should be a base-10 decimal number. Example: 10"
   ]
  },
  {
   "cell_type": "markdown",
   "id": "ce8bcaf2",
   "metadata": {},
   "source": [
    "(Put your answer in the cell below. Do not remove/add/run the cell.)"
   ]
  },
  {
   "cell_type": "code",
   "execution_count": null,
   "id": "32489317",
   "metadata": {},
   "outputs": [],
   "source": [
    "60"
   ]
  },
  {
   "cell_type": "markdown",
   "id": "24150922",
   "metadata": {},
   "source": [
    "Describe how did you solve the problem in the cell below."
   ]
  },
  {
   "cell_type": "markdown",
   "id": "7457c719",
   "metadata": {},
   "source": [
    "Hold time is tcCQ + tlogic,min - tskew. This means we get 10 + 50 - 0 because we have no skew so it's 60 ps."
   ]
  }
 ],
 "metadata": {
  "kernelspec": {
   "display_name": "Python 3 (ipykernel)",
   "language": "python",
   "name": "python3"
  },
  "language_info": {
   "codemirror_mode": {
    "name": "ipython",
    "version": 3
   },
   "file_extension": ".py",
   "mimetype": "text/x-python",
   "name": "python",
   "nbconvert_exporter": "python",
   "pygments_lexer": "ipython3",
   "version": "3.9.12"
  }
 },
 "nbformat": 4,
 "nbformat_minor": 5
}
