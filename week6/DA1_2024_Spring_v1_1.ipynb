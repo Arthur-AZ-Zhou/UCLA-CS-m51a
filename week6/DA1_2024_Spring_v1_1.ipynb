{
 "cells": [
  {
   "cell_type": "markdown",
   "id": "22b95844-6482-4908-8dba-fe4686c97f8c",
   "metadata": {},
   "source": [
    "# Design Assignment #1 (version 1.1)\n",
    "### *Deadline: May 17, 2024 (11:59PM)*"
   ]
  },
  {
   "cell_type": "markdown",
   "id": "ca138d07-3784-49a2-ac84-fcb5814dce3d",
   "metadata": {},
   "source": [
    "## Student Name: _\\<ENTER\\>_"
   ]
  },
  {
   "cell_type": "markdown",
   "id": "9bc3c3ff-74b4-4454-940c-dedc94ab480d",
   "metadata": {},
   "source": [
    "> ### Version History:\n",
    "> - 1.0: initial release\n",
    "> - 1.1: fixed ordering of tasks and some typos\n",
    "> ### Instructions:\n",
    "> 1. You should download your personalized Logisim starter files by following the link provided on Piazza, which will take you to a spreadsheet with linke to a zip file containing your personalized starter files.\n",
    "> 1. This design assignment must be done individually, subject to the following collaboration policy with other students. However, see the next bullet for an option to solve a problem jointly for reduced credit.\n",
    ">    * Allowed Collaboration:\n",
    ">        - Discuss how to interpret a problem’s specification\n",
    ">        - Discuss how to approach the problem in general terms\n",
    ">        - Share testing strategy and sets of test inputs/outputs\n",
    ">        - Share design performance data\n",
    ">    * Anything not stated above is disallowed and would be treated as an honor code violation.\n",
    "> 1. As an alternative to doing the problems individually, you can choose to do any problem jointly with one other student. If so, you must submit that problem as a team (Gradescope allows that). Each student will get 80% of the post-normalization score for the problem in such a case. Doing a problem jointly but failing to submit it as a team and declaring it in the report will result in a zero score on that problem. Moreover, such an action will be treated as cheating and reported as an honor code violation.\n",
    "> 1. **Late Submission:**  The standard course policy for late submissions and days applies.\n",
    "> 1. **Submission Procedure:** You will upload several items to Gradescope: (i) This notebook after filling out the answer cells, and (ii) Design files separately for each task. When you upload design files to Gradescope, the autograder will do some basic sanity checks and report any missing files but not run any actual tests. It is your responsibility to devise test cases to test your circuit.\n",
    "> 1. Please comply with all the instructions, as failure to do so can prevent Autograder from testing your design. If we have to grade manually because your failure to comply with instructions (e.g., file names, pin naming, etc.) required us to fix, we will scale your score down by 20% where the problem occurs. Note that this does not apply to design bugs—there is no manual grading.\n",
    "> 1. **Logisim:**\n",
    ">    - You must use the version of Logisim made available for download on Piazza (Version 3.8.0).\n",
    ">    - As you edit in Logisim, save frequently and make backup copies of your design file.\n",
    ">    - We will grade using the top-level circuit (we almost always label it as DUT), but you are free to create additional sub-circuits you use in DUT.\n",
    ">    - We highly recommend using Logisim’s tunnels, which make your circuit cleaner and allow for easier debugging. Tunnels allow you to move a value from one part of the circuit to another without having to drag a wire all the way across. You can create tunnels for all the inputs and their complements. Instead of hooking up the inputs directly to the gates, you can hook up using tunnels.\n",
    ">    - Do not rename or move any input or output pins or add any additional pins. Doing so will in all likelihood cause the Autograder to fail and result in points being deducted (see below).\n",
    ">    - Testing is as critical as design; in particular, make sure to test for edge cases. For manual testing, you can use the hand tool and click on the input pins to change their values, which will propagate to the rest of the circuit. You can reset the simulation back to the start with Ctrl-R to test again after you make changes. You can also use the Test Vector feature to test your circuit automatically.\n",
    ">    - The Test Vector feature in Logisim Evolution allows you to test your combinational circuit against the expected output. You can read more about the Test Vector feature and how to use it in the Logisim Evolution User's Guide. You are also free to exchange test vector files or collaboratively create them with other students in the class.\n",
    ">    - You must use designs relying only on gates permitted for each problem. Failure to do so will result in a zero score. This is a hard requirement.\n",
    ">    - Save frequently and commit frequently! Try to save your code in Logisim every 5 minutes or so, and commit every time you produce a new feature, even if it is small.\n",
    "> 1. Cost of Logisim Modules (not all of these may be needed or allowed in a problem)\n",
    ">    - $w$-bitwidth NOT: $2 \\times w$\n",
    ">    - $w$-bitwidth NAND with $n$ inputs: $2 \\times w \\times n$\n",
    ">    - $w$-bitwidth NOR with $n$ inputs: $2 \\times w \\times n$\n",
    ">    - $w$-bitwidth AND with $n$ inputs: $2 \\times w \\times (n+1)$\n",
    ">    - $w$-bitwidth OR with $n$ inputs: $2 \\times w \\times (n+1)$\n",
    ">    - $w$-bitwidth XOR with $2$ inputs: $2 \\times 12 \\times w$\n",
    ">    - $w$-bitwidth XNOR with $2$ inputs: $2 \\times 12 \\times w$\n",
    ">    - D Flip-Flop: $18$\n",
    ">    - T Flip-Flop: $32$\n",
    ">    - $w$-bitwidth Register: $20 \\times w$\n",
    ">    - $w$-bitwidth Adder, Subtractor, Comparator: $28 \\times w$\n",
    ">    - $w$-bitwidth Multiplier: $28 \\times w^2$\n",
    ">    - $w$-bitwidth $2^s$-to-$1$ Multiplexer: $6 \\times w \\times 2^s + 2^s + (s>1\\;?\\;2 \\times s \\times 2^s : 0)$\n",
    ">      - For a $w$-bitwidth 2-to-1  Multiplexer, the cost expression simplifies to $12 \\times w + 2$\n",
    "<!--\n",
    "> 1. **gv2fsm Tool:**\n",
    ">    - When creating an FSM, you may benefit significantly from using a tool called gv2fsm, which I have written as a Google Colab Notebook. It takes as input an FSM state diagram written using a language called Graphviz that is used to draw graphs (the tool imposes some conventions on top of Graphviz to allow FSM state diagrams to be specified) and then validates them for many common errors and then produces a Logisim design that can be used for testing (but it uses components that we don’t allow - so you can’t use it as your solution).\n",
    "-->\n",
    "> 1.  After every problem or subproblem, we have provided a cell where you can optionally provide a brief explanation of your solution approach. By default, we will not grade the explanation but use it if the autograder or the human grader marks your answer wrong and you request a regrade. No regrade request will be entertained unless an explanation of how you derived your answer is provided. The explanation cells can accept text in Markdown format."
   ]
  },
  {
   "cell_type": "markdown",
   "id": "2db6b3a0-eaff-4e6d-9a43-763b991762b4",
   "metadata": {},
   "source": [
    "# Task 1: Ensuring Privacy in a Grid World [25.0 points]"
   ]
  },
  {
   "cell_type": "markdown",
   "id": "bb9bef54-a1c0-4c34-bebe-55171a211a18",
   "metadata": {},
   "source": [
    "Implement the combinational circuit as specified below to detect whether people standing in a $3 \\times 3$ grid world have privacy or not.\n",
    "\n",
    "**Starter Logisim File:** da1_task1.circ\n",
    "\n",
    "**Main Circuit:** DUT\n",
    " - Important Note: Do not move, delete, or rename the Pins in DUT, and do not add any new pins\n",
    "\n",
    "**Clock:** None\n",
    "\n",
    "**Inputs:** X11, X12, X13, X21, X22, X23, X31, X32, X33\n",
    "\n",
    "**Outputs:** F\n",
    "\n",
    "**Subcircuits:** None given but you can add your own.\n",
    "\n",
    "**Allowed Logisim Modules**\n",
    " - *From Gates:* NOT, NAND\n",
    "     * Important Note: While Logisim allows inputs of gates such as NAND to be selectively negated, you must not use that feature since doing so changes the gate’s functionality. If you need to invert  a gate’s input, do so using a NOT gate \n",
    " - *From Wiring:* any except Transistor, Pull Resistor, POR, Transmission Gate, Power, and Ground.\n",
    "     * Important Note: While you can use Pin in any subcircuits that you define, you must not add any Pin to DUT as that will cause failure with the Autograder. If you need to probe an inner signal in DUT or in subcircuit, use Probe instead of Pin.\n",
    " - *From Plexers:* None\n",
    " - *From Arithmetic:* None\n",
    " - *From Memory:* None\n",
    " - *From Input/Output:* Any (you may find these helpful when testing)\n",
    " - No other component is allowed and will result in zero score.\n",
    "\n",
    "**Area Cost of Logisim Modules:** Please see instructions at the top.\n",
    "\n",
    "**System Behavior:**\n",
    "\n",
    "There is a 3x3 grid world with three rows (r=1,2,3) and three columns (c=1,2,3). \n",
    "\n",
    "![](https://raw.githubusercontent.com/UCLA-ECEM16/assets/main/2024-Spring/gridworld.jpg)\n",
    "\n",
    "(**Note:** if an image doesn't show up above, please click on [this link](https://www.dropbox.com/scl/fi/vrjr5epi0f3epcxz6x5ek/gridworld.png?rlkey=gte6bck2zeyu830tvv45bqap4&dl=0)).\n",
    "\n",
    "Each grid cell (i,j) has a corresponding 1-bit boolean variable _Xij_, which has a value of 1 if the cell has a person and 0 otherwise. For example, _X12=1_ implies that the cell (1,2) has a person, and _X12=0_ implies that the cell (1,2) is empty. \n",
    "\n",
    "A person in a cell can see another person who is in the same row or the same column, or the same diagonal line. Note that  a cell, in general, may be on two diagonal lines, one going upper-left to bottom-right and the other bottom-left to top-right, and that there are diagonal lines to consider other than the two primary diagonals. So, for example, a person in cell (1,1) can see people in every cell except (2,3) and (3,2).\n",
    "\n",
    "Using Logisim and the provided starter files implement a digital system that takes as inputs _X11, X12, X13, X21, X22, X23, X31, X32, X33_ and outputs _F_ which is 1 if the values of _Xij_ are such that everyone in the grid world has privacy (i.e., no person in the grid world can see any other person in the grid world), and 0 otherwise. You may only use NAND and NOT gates. You will be uploading the design file separately to the autograder for this task.\n",
    "\n",
    "Additionally, provide the information asked for in the cells below.\n",
    "\n",
    "_Hint: Divide the problem into subcases for various rows/columns/diagonals and consider what condition needs to be met for each row/column/diagonal. You may find it beneficial to use Logisim's subcircuit feature and ability to synthesize and analyze circuits.\n",
    "\n",
    "**Desiderata:** \n",
    "- Correct functionality\n",
    "  - Please test carefully, particularly for edge cases.\n",
    "- Low area\n",
    "  - Area is measured by adding up all the component costs (you can get this from the Autograder when you upload)\n",
    "- Clean design, testing strategy, quality of explanation, etc.\n",
    "\n",
    "**Grading:** \n",
    "- You will get a 0 design score if you use a Logisim component that was not explicitly permitted or use more than the allowed quantity of a permitted component\n",
    "- The score for Logisim design will be divided as 75% for correct implementation of the required functionality and 25% for area.\n",
    "- To determine the score for correct functionality, we will subject your system to multiple equally weighted tests corresponding to input values that are allowed as per specification. If when faced with $n$ tests your system behaved correctly on $k$ of them (naturally $k < n$) then your functionality score will be $MaxFunctionalityScore *(k==n?1:0.8*(k/n))$. In other words, there is a 20% baseline penalty for any error, and then we prorate. Note that there will be no manual partial grading for the functional correctness score, and instead, we will use the Report score as the vehicle to give you partial credit if warranted.\n",
    "- To determine the score for area cost, we will score as follows: you will get a full score for designs that are no worse than 1.1 x best submission and a score of 0 if your design is worse than 2 x best submission, with linear interpolation in between. The autograder will compute the area of your design, but the scoring will be done separately, depending on the score of the whole class. Note that you will only get a full score for area cost if your design works entirely correctly. Otherwise, we will prorate the area score in proportion to the # of tests the circuit performed correctly on."
   ]
  },
  {
   "cell_type": "markdown",
   "id": "938e5f5d-e407-4833-bb77-c4c37b3bdd16",
   "metadata": {},
   "source": [
    "## Part 1.1: Logisim Design [20 points]\n",
    "\n",
    "Upload your design in the _da1_task1.circ_ file to Gradescope. Both correctness and area will be considered when assigning the score."
   ]
  },
  {
   "cell_type": "markdown",
   "id": "b8019941-54b3-478f-8335-95d2e5e7dae5",
   "metadata": {},
   "source": [
    "## Part 1.2: Logic Expression for _F_ [2.5 points]\n",
    "\n",
    "Provide a logic expression for _F_ using ~,&,|, ^, and parenthesis (^ is the XOR operator). Provide your answer as a single logic expression. It may be long, but you do not need to optimize the expression."
   ]
  },
  {
   "cell_type": "code",
   "execution_count": null,
   "id": "63bb0745-e334-4044-8518-907830b7c4c9",
   "metadata": {},
   "outputs": [],
   "source": [
    "Enter_your_answer_in_required_format"
   ]
  },
  {
   "cell_type": "markdown",
   "id": "2b2f07eb-43b6-48ad-acf9-1b6fcfcc4650",
   "metadata": {},
   "source": [
    "## Part 1.3: Description of Design and Test Approach [2.5 points]\n",
    "\n",
    "Briefly describe you design and test approach, e.g., what is your “algorithm”, how did you optimize the design, how did you test it for correctness, what input values did you test for, etc."
   ]
  },
  {
   "cell_type": "markdown",
   "id": "d63a2561-13db-47cd-bed0-f1892fb7c242",
   "metadata": {},
   "source": [
    "_Enter_your_answer_as_freeform_text (Markdown allowed)_"
   ]
  },
  {
   "cell_type": "markdown",
   "id": "498051ae-49ee-4add-98a2-9114ec2cb1a6",
   "metadata": {},
   "source": [
    "#### **Optional Explanation:**\n",
    "\n",
    "Provide any additional information about your design. We will consider this only if you end up making a regrade request."
   ]
  },
  {
   "cell_type": "markdown",
   "id": "6e8f463f-d9b6-4d17-bf35-b4fa1e7d52b2",
   "metadata": {},
   "source": [
    "_Replace this text with your explanation._"
   ]
  },
  {
   "cell_type": "markdown",
   "id": "59e85e5c-ffdf-4bc8-9805-59ec6df80f30",
   "metadata": {},
   "source": [
    "# Task 2: Sorting Unsigned and Signed Triplets [25 points]"
   ]
  },
  {
   "cell_type": "markdown",
   "id": "1ed86bee-64a0-46c0-bf08-4c813ac91fa1",
   "metadata": {},
   "source": [
    "Implement the combinational circuit as specified below that takes three 8-bit numbers and sorts them, interpreting the numbers as unsigned or 2's complement depending on the state of a control bit.\n",
    "\n",
    "**Starter Logisim File:** da1_task2.circ\n",
    "\n",
    "**Main Circuit:** DUT\n",
    " - Important Note: Do not move, delete, or rename the Pins in DUT, and do not add any new pins\n",
    "\n",
    "**Clock:** None\n",
    "\n",
    "**Inputs:** IS_SIGNED, D0\\[7:0\\], D1\\[7:0\\], D2\\[7:0\\] \n",
    "\n",
    "**Outputs:** H\\[7:0\\], M\\[7:0\\], L\\[7:0\\]\n",
    "\n",
    "**Subcircuits:** None given but you can add your own.\n",
    "\n",
    "**Allowed Logisim Modules**\n",
    " - *From Gates:* NOT, NAND\n",
    "     * Important Note: While Logisim allows inputs of gates such as NAND to be selectively negated, you must not use that feature since doing so changes the gate’s functionality. If you need to invert  a gate’s input, do so using a NOT gate \n",
    " - *From Wiring:* any except Transistor, Pull Resistor, POR, Transmission Gate, Power, and Ground.\n",
    "     * Important Note: While you can use Pin in any subcircuits that you define, you must not add any Pin to DUT as that will cause failure with the Autograder. If you need to probe an inner signal in DUT or in subcircuit, use Probe instead of Pin.\n",
    " - *From Plexers:* Multiplexer\n",
    " - *From Arithmetic:* Adder, Comparator\n",
    " - *From Memory:* None\n",
    " - *From Input/Output:* Any (you may find these helpful when testing)\n",
    " - No other component is allowed and will result in zero score.\n",
    "\n",
    "**Area Cost of Logisim Modules:** Please see instructions at the top.\n",
    "\n",
    "**System Behavior:**\n",
    "\n",
    "The system should interpret D0\\[7:0\\], D1\\[7:0\\], and D2\\[7:0\\] unsigned numbers if IS_SIGNED=0, and as 2's complement numbers if IS_SIGNED=1. Then, on H\\[7:0\\], M\\[7:0\\], and L\\[7:0\\] it should respectively output the highest, middle, and lowest valued number, taking into account the unsigned or 2's complement.\n",
    "\n",
    "Using Logisim and the provided starter files, implement a digital system with this behavior while complying with all the constraints and minimizing the area cost.\n",
    "\n",
    "**Desiderata:** \n",
    "- Correct functionality\n",
    "  - Please test carefully, particularly for edge cases.\n",
    "- Low area\n",
    "  - Area is measured by adding up all the component costs (you can get this from the Autograder when you upload)\n",
    "- Clean design, testing strategy, quality of explanation, etc.\n",
    "\n",
    "**Grading:** \n",
    "- You will get 0 design score if you use a Logisim component that was not explicitly permitted, or use more than the allow quantity of an permitted component\n",
    "- The score for Logisim design will be divided as 75% for correct implementation of the required functionality and 25% for area.\n",
    "- To determine the score for correct functionality, we will subject your system to multiple equally weighted tests corresponding to input values that are allowed as per specification. If, when faced with $n$ tests, your system behaved correctly on $k$ of them (naturally $k \\le n$), then your functionality score will be $MaxFunctionalityScore *(k==n?1:0.8*(k/n))$. In other words, there is a 20% baseline penalty for any error, and then we prorate. Note that there will be no manual partial grading for the functional correctness score, and instead, we will use the Report score as the vehicle to give you partial credit if warranted.\n",
    "- To determine the score for area cost, we will score as follows: you will get a full score for designs that are no worse than 1.1 x best submission and a score of 0 if your design is worse than 2 x best submission, with linear interpolation in between. The autograder will compute the area of your design, but the scoring will be done separately, depending on the score of the whole class. Note that you will only get a full score for area cost if your design works entirely correctly. Otherwise, we will prorate the area score in proportion to the # of tests the circuit performed correctly on."
   ]
  },
  {
   "cell_type": "markdown",
   "id": "2f76e306-1c0e-41c5-9aff-2ed1d75687d3",
   "metadata": {},
   "source": [
    "## Part 2.1: Logisim Design [20 points]\n",
    "\n",
    "Upload your design in the _da1_task2.circ_ file to Gradescope. Both correctness and area will be considered when assigning the score."
   ]
  },
  {
   "cell_type": "markdown",
   "id": "9f228a94-873d-40a7-9c6b-b7858e58813f",
   "metadata": {},
   "source": [
    "## Part 2.2: Description of Design and Test Approach [5 points]\n",
    "\n",
    "Briefly describe you design and test approach, e.g., what is your “algorithm”, how did you optimize the design, how did you test it for correctness, what input values did you test for, etc."
   ]
  },
  {
   "cell_type": "markdown",
   "id": "69b958b9-3baf-465c-8b84-3e57cb39b9c1",
   "metadata": {},
   "source": [
    "_Enter_your_answer_as_freeform_text (Markdown allowed)_"
   ]
  },
  {
   "cell_type": "markdown",
   "id": "40f73a0c-7b72-4434-85eb-81d459fdba65",
   "metadata": {},
   "source": [
    "#### **Optional Explanation:**\n",
    "\n",
    "Provide any additional information about your design. We will consider this only if you end up making a regrade request."
   ]
  },
  {
   "cell_type": "markdown",
   "id": "5ca3acfe-c687-40cd-8371-77202ce87132",
   "metadata": {},
   "source": [
    "_Replace this text with your explanation._"
   ]
  },
  {
   "cell_type": "markdown",
   "id": "02cbc912-8d8b-462c-aa1c-b8c6ec4a6f76",
   "metadata": {},
   "source": [
    "# Task 3: Building Bigger Decoders from Smaller Ones [25 points]"
   ]
  },
  {
   "cell_type": "markdown",
   "id": "76c63a9a-63f1-40a1-880a-0ae2f7e5f285",
   "metadata": {},
   "source": [
    "Implement a 7-to-128 decoder using the smaller decoders and basic gates.\n",
    "\n",
    "**Starter Logisim File:** da1_task3.circ\n",
    "\n",
    "**Main Circuit:** DUT\n",
    "\n",
    " - Important Note: Do not move, delete, or rename the Pins in DUT, and do not add any new pins\n",
    "\n",
    "**Clock:** None\n",
    "\n",
    "**Inputs:** A\\[6:0\\]\n",
    "\n",
    "**Outputs:** B_UPPER\\[63:0\\], B_LOWER\\[63:0\\]\n",
    "\n",
    "**Subcircuits:** None given but you can add your own.\n",
    "\n",
    "**Allowed Logisim Modules**\n",
    "\n",
    " - *From Gates:* NOT, and at most quantity 135 of NAND gates\n",
    "     * Important Note: While Logisim allows inputs of gates such as NAND to be selectively negated, you must not use that feature since doing so changes the gate’s functionality. If you need to invert  a gate’s input, do so using a NOT gate \n",
    " - *From Wiring:* any except Transistor, Pull Resistor, POR, Transmission Gate, Power, and Ground.\n",
    "     * Important Note: While you can use Pin in any subcircuits that you define, you must not add any Pin to DUT as that will cause failure with the Autograder. If you need to probe an inner signal in DUT or in subcircuit, use Probe instead of Pin.\n",
    " - *From Plexers:* Decoder\n",
    " - *From Arithmetic:* None\n",
    " -  - *From Memory:* None\n",
    " - *From Input/Output:* Any (you may find these helpful when testing)\n",
    " - No other component is allowed and will result in zero score.\n",
    "\n",
    "\n",
    "**Area Cost of Logisim Modules:** Please see instructions at the top.\n",
    "\n",
    "**System Behavior:**\n",
    "\n",
    "The system should function as a 7-to-128 decoder, so that if input A\\[6:0\\] has the value $i$, then it should set the $i^{th}$ bit of the output. However, unfortunately, Logisim does not allow for more than 64-bit inputs, and so we have split the output B into an upper half B_UPPER\\[63:0\\] (corresponding to bits B\\[127:64\\]) and a lower half  B_LOWER\\[63:0\\] (corresponding to bits B\\[63:0\\]). So, for example, if A\\[6:0\\] has the value 23, the B_LOWER\\[23\\] will be set 1 and all other output bits 0, and if A\\[6:0\\] has the value 75, then  B_UPPER\\[11\\] will be set 1 and all other output bits 0.\n",
    "\n",
    "Using Logisim and the provided starter files implement a digital system with this behavior while complying with all the constraints and minimizing the area cost.\n",
    "\n",
    "**Desiderata:** \n",
    "- Correct functionality\n",
    "  - Please test carefully, particularly for edge cases.\n",
    "- Clean design, testing strategy, quality of explanation, etc.\n",
    "\n",
    "**Grading:** \n",
    "- You will get a 0 design score if you use a Logisim component that was not explicitly permitted or use more than the allowed quantity of a permitted component\n",
    "- The score for Logisim design will be based solely on correct functionality.\n",
    "- To determine the score for correct functionality, we will subject your system to multiple equally weighted tests corresponding to input values that are allowed as per specification. If, when faced with $n$ tests, your system behaved correctly on $k$ of them (naturally $k \\le n$), then your functionality score will be $MaxFunctionalityScore *(k==n?1:0.8*(k/n))$. In other words, there is a 20% baseline penalty for any error, and then we prorate. Note that there will be no manual partial grading for the functional correctness score, and instead, we will use the Report score as the vehicle to give you partial credit if warranted."
   ]
  },
  {
   "cell_type": "markdown",
   "id": "242d8fc8-ded0-40ea-960c-3316c7323299",
   "metadata": {},
   "source": [
    "## Part 3.1: Logisim Design [20 points]\n",
    "\n",
    "Upload your design in the _da1_task3.circ_ file to Gradescope. Both correctness and area will be considered when assigning the score."
   ]
  },
  {
   "cell_type": "markdown",
   "id": "59dab62f-3be2-4e7a-b25e-5af6b7b7ad1b",
   "metadata": {},
   "source": [
    "## Part 3.2: Description of Design and Test Approach [5 points]\n",
    "\n",
    "Briefly describe you design and test approach, e.g., what is your “algorithm”, how did you optimize the design, how did you test it for correctness, what input values did you test for, etc."
   ]
  },
  {
   "cell_type": "markdown",
   "id": "686885f6-f956-4520-bbb7-92ca0edb4f29",
   "metadata": {},
   "source": [
    "_Enter_your_answer_as_freeform_text (Markdown allowed)_"
   ]
  },
  {
   "cell_type": "markdown",
   "id": "53373f70-d9e8-442b-ba5e-f44cb9789a0a",
   "metadata": {},
   "source": [
    "#### **Optional Explanation:**\n",
    "\n",
    "Provide any additional information about your design. We will consider this only if you end up making a regrade request."
   ]
  },
  {
   "cell_type": "markdown",
   "id": "6aeaf353-f0ff-4387-add2-42194cb94e6a",
   "metadata": {},
   "source": [
    "_Replace this text with your explanation._"
   ]
  },
  {
   "cell_type": "markdown",
   "id": "6fafb41c-a257-46db-b36e-2646064f0092",
   "metadata": {},
   "source": [
    "# Task 4: Smart Multiplexor for Distributed Sensors [25 points]"
   ]
  },
  {
   "cell_type": "markdown",
   "id": "fddaedfd-4901-4eb9-90aa-2ba7970e4a38",
   "metadata": {},
   "source": [
    "Implement a digital system that does smart multiplexing of outputs of multiple AI-enabled camera sensors in a perimeter security system as described below. \n",
    "\n",
    "**Starter Logisim File:** da1_task4.circ\n",
    "\n",
    "**Main Circuit:** DUT\n",
    "\n",
    " - Important Note: Do not move, delete, or rename the Pins in DUT, and do not add any new pins\n",
    "\n",
    "**Clock:** None\n",
    "\n",
    "**Inputs:** S0\\[1:0\\], S1\\[1:0\\], S2\\[1:0\\], S3\\[1:0\\], S4\\[1:0\\], S5\\[1:0\\], S6\\[1:0\\], S7\\[1:0\\]\n",
    "\n",
    "**Outputs:** DOUT\\[1:0\\], SID\\[2:0\\]\n",
    "\n",
    "**Subcircuits:** None given but you can add your own.\n",
    "\n",
    "**Allowed Logisim Modules**\n",
    "\n",
    " - *From Gates:* Any\n",
    "     * Important Note: While Logisim allows inputs of gates such as NAND to be selectively negated, you must not use that feature since doing so changes the gate’s functionality. If you need to invert  a gate’s input, do so using a NOT gate \n",
    " - *From Wiring:* any except Transistor, Pull Resistor, POR, Transmission Gate, Power, and Ground.\n",
    "     * Important Note: While you can use Pin in any subcircuits that you define, you must not add any Pin to DUT as that will cause failure with the Autograder. If you need to probe an inner signal in DUT or in subcircuit, use Probe instead of Pin.\n",
    " - *From Plexers:* Any\n",
    " - *From Arithmetic:* Any\n",
    " -  - *From Memory:* Any\n",
    " - *From Input/Output:* Any (you may find these helpful when testing)\n",
    " - No other component is allowed and will result in zero score.\n",
    "\n",
    "**Area Cost of Logisim Modules:** Not needed.\n",
    "\n",
    "**System Behavior:**\n",
    "\n",
    "The system that you are designing does smart multiplexing of camera outputs in a security system. Specifically, the system has eight cameras that provide eight 2-bit signals S0\\[7:0\\], S1\\[7:0\\], S2\\[7:0\\], S3\\[7:0\\], S4\\[7:0\\], S5\\[7:0\\], S6\\[7:0\\], and S7\\[7:0\\] to your system. Camera #0 has the highest priority, and camera #7 has the lowest priority. The 2-bit output from a camera indicates whether the camera is not seeing any object (00) or seeing one of three types of objects (01 = human, 10 = animal, 11 = vehicle).\n",
    "\n",
    "At all times, the output of your system should be as follows:\n",
    "\n",
    "1. If all cameras are sending 00, then DOUT\\[1:0\\]=00, SID\\[2:0\\] is don't care.\n",
    "\n",
    "1. If one or cameras are sending a value other than 00, then  SID\\[2:0\\] is the id (0 to 7) of the highest priority camera that is seeing an object, and DOUT\\[1:0\\] indicates the type of object that camera is seeing. So, for example, if at some time S1\\[7:0\\]=01, S4\\[7:0\\]=11, and all other Si\\[7:0\\]=00, then DOUT\\[1:0\\]=01, SID\\[2:0\\]=001.\n",
    "\n",
    "Use Logisim and the provided starter files to implement a digital system with this behavior while complying with all the constraints and minimizing the area cost.\n",
    "\n",
    "**Desiderata:** \n",
    "- Correct functionality\n",
    "  - Please test carefully, particularly for edge cases.\n",
    "- Clean design, testing strategy, quality of explanation, etc.\n",
    "\n",
    "**Grading:** \n",
    "- You will get a 0 design score if you use a Logisim component that was not explicitly permitted or use more than the allowed quantity of a permitted component\n",
    "- The score for Logisim design will be based solely on correct functionality.\n",
    "- To determine the score for correct functionality, we will subject your system to multiple equally weighted tests corresponding to input values that are allowed as per specification. If, when faced with $n$ tests, your system behaved correctly on $k$ of them (naturally $k \\le n$), then your functionality score will be $MaxFunctionalityScore *(k==n?1:0.8*(k/n))$. In other words, there is a 20% baseline penalty for any error, and then we prorate. Note that there will be no manual partial grading for the functional correctness score, and instead, we will use the Report score as the vehicle to give you partial credit if warranted."
   ]
  },
  {
   "cell_type": "markdown",
   "id": "b9cf8be8-5178-4b2a-8470-8361823892e5",
   "metadata": {},
   "source": [
    "## Part 4.1: Logisim Design [20 points]\n",
    "\n",
    "Upload your design in the _da1_task4.circ_ file to Gradescope. Both correctness and area will be considered when assigning the score."
   ]
  },
  {
   "cell_type": "markdown",
   "id": "ed5594aa-b24e-4255-ab82-fed422b94710",
   "metadata": {},
   "source": [
    "## Part 4.2: Description of Design and Test Approach [5 points]\n",
    "\n",
    "Briefly describe you design and test approach, e.g., what is your “algorithm”, how did you optimize the design, how did you test it for correctness, what input values did you test for, etc."
   ]
  },
  {
   "cell_type": "markdown",
   "id": "dba37241-0670-4cb9-9a63-63b40bbb6c6c",
   "metadata": {},
   "source": [
    "_Enter_your_answer_as_freeform_text (Markdown allowed)_"
   ]
  },
  {
   "cell_type": "markdown",
   "id": "d03b35e4-e5b8-427f-86c0-88e91ee9900e",
   "metadata": {},
   "source": [
    "#### **Optional Explanation:**\n",
    "\n",
    "Provide any additional information about your design. We will consider this only if you end up making a regrade request."
   ]
  },
  {
   "cell_type": "markdown",
   "id": "edb48fb4-e5ff-4429-ba4d-fc0d78f11cb6",
   "metadata": {},
   "source": [
    "_Replace this text with your explanation._"
   ]
  }
 ],
 "metadata": {
  "kernelspec": {
   "display_name": "Python 3 (ipykernel)",
   "language": "python",
   "name": "python3"
  },
  "language_info": {
   "codemirror_mode": {
    "name": "ipython",
    "version": 3
   },
   "file_extension": ".py",
   "mimetype": "text/x-python",
   "name": "python",
   "nbconvert_exporter": "python",
   "pygments_lexer": "ipython3",
   "version": "3.9.12"
  }
 },
 "nbformat": 4,
 "nbformat_minor": 5
}
