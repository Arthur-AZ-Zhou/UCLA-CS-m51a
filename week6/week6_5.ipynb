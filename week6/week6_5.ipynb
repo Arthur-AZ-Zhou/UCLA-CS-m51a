{
 "cells": [
  {
   "cell_type": "markdown",
   "id": "c8e4c4db",
   "metadata": {},
   "source": [
    "# Problem"
   ]
  },
  {
   "cell_type": "markdown",
   "id": "7bcb64cd",
   "metadata": {},
   "source": [
    "Convert the binary number 10011111 represented in two's complement into decimal. The answer should consist _only_ of digits 0-9 and minus sign - if needed. No space between them. No apostrophes. Example: -123"
   ]
  },
  {
   "cell_type": "markdown",
   "id": "1efa0fb3",
   "metadata": {},
   "source": [
    "(Put your answer in the cell below. Do not remove/add/run the cell.)"
   ]
  },
  {
   "cell_type": "code",
   "execution_count": null,
   "id": "9b3e2436",
   "metadata": {},
   "outputs": [],
   "source": [
    "-97"
   ]
  },
  {
   "cell_type": "markdown",
   "id": "ab8f112b",
   "metadata": {},
   "source": [
    "Describe how did you solve the problem in the cell below."
   ]
  },
  {
   "cell_type": "markdown",
   "id": "e961d7ed",
   "metadata": {},
   "source": [
    "I used the uniform representation method where I added -(2^7)+(2^4)+(2^3)+(2^2)+(2^1)+(2^0) and got -97 out of it"
   ]
  }
 ],
 "metadata": {
  "kernelspec": {
   "display_name": "Python 3 (ipykernel)",
   "language": "python",
   "name": "python3"
  },
  "language_info": {
   "codemirror_mode": {
    "name": "ipython",
    "version": 3
   },
   "file_extension": ".py",
   "mimetype": "text/x-python",
   "name": "python",
   "nbconvert_exporter": "python",
   "pygments_lexer": "ipython3",
   "version": "3.9.12"
  }
 },
 "nbformat": 4,
 "nbformat_minor": 5
}
