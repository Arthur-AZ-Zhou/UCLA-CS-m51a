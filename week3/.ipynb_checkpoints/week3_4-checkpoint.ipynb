{
 "cells": [
  {
   "cell_type": "markdown",
   "id": "3315aad3",
   "metadata": {},
   "source": [
    "# Problem"
   ]
  },
  {
   "cell_type": "markdown",
   "id": "00c79640",
   "metadata": {},
   "source": [
    "Consider the boolean logic function f(a,b,c,d) whose Karnaugh Map is as shown below.<br><table><tr><td></td><td></td><td colspan='4' style='text-align: center'>ba</td></tr><tr><td></td><td></td><td>00</td><td>01</td><td>11</td><td>10</td></tr><tr><td rowspan='4' style='text-align: center'>dc</td><td>00</td><td>x</td><td>1</td><td>1</td><td>0</td></tr><tr><td>01</td><td>1</td><td>1</td><td>1</td><td>1</td></tr><tr><td>11</td><td>0</td><td>0</td><td>0</td><td>0</td></tr><tr><td>10</td><td>0</td><td>0</td><td>1</td><td>0</td></tr></table>"
   ]
  },
  {
   "cell_type": "markdown",
   "id": "3410b819",
   "metadata": {},
   "source": [
    "Write a minimal SoP expression for this function."
   ]
  },
  {
   "cell_type": "code",
   "execution_count": null,
   "id": "3e571a13",
   "metadata": {
    "ans": 0,
    "id": 0
   },
   "outputs": [],
   "source": [
    "(c & ~d) | (a & ~d) | (a & b & ~c)"
   ]
  },
  {
   "cell_type": "markdown",
   "id": "3dc90423",
   "metadata": {},
   "source": [
    "Our goal is to minimze the number of terms we have for each of the prime implicants. The best method would to be group the 1's in the largest rectangles possible and go from there. For example, we chose the 2nd row from the top and declared it to be (c & ~d) as it contains the minimal number of terms. Additionally, we declared the 2x2 box of 1's as (a & ~d) as it saves the most amount of writing for the minterm. We also declared the final 1 as in relation with the 3rd 1 from the left on the top row to save an extra minterm worth of writing."
   ]
  },
  {
   "cell_type": "code",
   "execution_count": null,
   "id": "c888edf8",
   "metadata": {},
   "outputs": [],
   "source": []
  }
 ],
 "metadata": {
  "kernelspec": {
   "display_name": "Python 3 (ipykernel)",
   "language": "python",
   "name": "python3"
  },
  "language_info": {
   "codemirror_mode": {
    "name": "ipython",
    "version": 3
   },
   "file_extension": ".py",
   "mimetype": "text/x-python",
   "name": "python",
   "nbconvert_exporter": "python",
   "pygments_lexer": "ipython3",
   "version": "3.9.12"
  }
 },
 "nbformat": 4,
 "nbformat_minor": 5
}
