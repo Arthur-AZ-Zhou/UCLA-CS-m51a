{
 "cells": [
  {
   "cell_type": "markdown",
   "id": "22b95844-6482-4908-8dba-fe4686c97f8c",
   "metadata": {
    "editable": false,
    "slideshow": {
     "slide_type": ""
    },
    "tags": []
   },
   "source": [
    "# Design Assignment #2 (ver. 1.1)\n",
    "### *Deadline: June 7, 2024 (11:59PM)*"
   ]
  },
  {
   "cell_type": "markdown",
   "id": "ca138d07-3784-49a2-ac84-fcb5814dce3d",
   "metadata": {
    "slideshow": {
     "slide_type": ""
    },
    "tags": []
   },
   "source": [
    "## Student Name: _\\<ARTHUR ZHOU\\>_"
   ]
  },
  {
   "cell_type": "markdown",
   "id": "16eb174f-2757-488e-adc5-aeb2b78f0b6c",
   "metadata": {
    "editable": false,
    "slideshow": {
     "slide_type": ""
    },
    "tags": []
   },
   "source": [
    "> ### Version History:\n",
    "> - 1.0: initial release\n",
    ">  \n",
    "> ### Instructions:\n",
    "> 1. You should download your personalized Logisim starter files by following the link provided on Piazza, which will take you to a spreadsheet with linke to a zip file containing your personalized starter files.\n",
    "> 1. This design assignment must be done individually, subject to the following collaboration policy with other students.\n",
    ">    * Allowed Collaboration:\n",
    ">        - Discuss how to interpret the specification of a problem\n",
    ">        - Discuss how to approach the problem in general terms\n",
    ">        - Share testing strategy and sets of test inputs/outputs\n",
    ">        - Share design performance data\n",
    ">    * Anything not stated above is disallowed and would be treated as an honor code violation.\n",
    "> 1. **Late Submission:**  The standard course policy for late submissions and days applies.\n",
    "> 1. **Submission Procedure:** You will upload design and report files to Gradescope. When you upload design files to Gradescope, the autograder will do some basic sanity checks and report any missing files but not run any actual tests. It is your responsibility to devise test cases to test your circuit.\n",
    "> 1. Please comply with all the instructions, as failure to do so can prevent Autograder from testing your design. If we have to grade manually because your failure to comply with instructions (e.g., file names, pin naming, etc.) required us to fix, we will scale your score down by 20% where the problem occurs. Note that this does not apply to design bugs—there is no manual grading.\n",
    "> 1. **Logisim:**\n",
    ">    - You must use the version of Logisim made available for download on Piazza (Version 3.8.0).\n",
    ">    - As you edit in Logisim, save frequently and make backup copies of your design file.\n",
    ">    - We will grade using the top-level circuit (we almost always label it as DUT), but you are free to create additional sub-circuits you use in DUT.\n",
    ">    - We highly recommend using Logisim’s tunnels, which make your circuit cleaner and allow for easier debugging. Tunnels allow you to move a value from one part of the circuit to another without having to drag a wire all the way across. You can create tunnels for all the inputs and their complements. Instead of hooking up the inputs directly to the gates, you can hook up using tunnels.\n",
    ">    - Do not rename or move any input or output pins or add any additional pins. Doing so will in all likelihood cause the Autograder to fail and result in points being deducted (see below).\n",
    ">    - Testing is as critical as design; in particular, make sure to test for edge cases. For manual testing, you can use the hand tool and click on the input pins to change their values, which will propagate to the rest of the circuit. You can reset the simulation back to the start with Ctrl-R to test again after you make changes. You can also use the Test Vector feature to test your circuit automatically.\n",
    ">    - The Test Vector feature in Logisim Evolution allows you to test your combinational circuit against the expected output. You can read more about the Test Vector feature and how to use it in the Logisim Evolution User's Guide. You are also free to exchange test vector files or collaboratively create them with other students in the class.\n",
    ">    - You must use designs relying only on gates permitted for each problem. Failure to do so will result in a zero score. This is a hard requirement.\n",
    ">    - Save frequently and commit frequently! Try to save your code in Logisim every 5 minutes or so, and commit every time you produce a new feature, even if it is small.\n",
    "> 1. Cost of Logisim Modules (not all of these may be needed or allowed in a problem)\n",
    ">    - $w$-bitwidth NOT: $2 \\times w$\n",
    ">    - $w$-bitwidth NAND with $n$ inputs: $2 \\times w \\times n$\n",
    ">    - $w$-bitwidth NOR with $n$ inputs: $2 \\times w \\times n$\n",
    ">    - $w$-bitwidth AND with $n$ inputs: $2 \\times w \\times (n+1)$\n",
    ">    - $w$-bitwidth OR with $n$ inputs: $2 \\times w \\times (n+1)$\n",
    ">    - $w$-bitwidth XOR with $2$ inputs: $2 \\times 12 \\times w$\n",
    ">    - $w$-bitwidth XNOR with $2$ inputs: $2 \\times 12 \\times w$\n",
    ">    - D Flip-Flop: $18$\n",
    ">    - T Flip-Flop: $32$\n",
    ">    - $w$-bitwidth Register: $20 \\times w$\n",
    ">    - $w$-bitwidth Adder, Subtractor, Comparator: $28 \\times w$\n",
    ">    - $w$-bitwidth Multiplier: $28 \\times w^2$\n",
    ">    - $w$-bitwidth $2^s$-to-$1$ Multiplexer: $6 \\times w \\times 2^s + 2^s + (s>1\\;?\\;2 \\times s \\times 2^s : 0)$\n",
    ">      - For a $w$-bitwidth 2-to-1  Multiplexer, the cost expression simplifies to $12 \\times w + 2$\n",
    "> 1. **fsm2logisim Tool:**\n",
    ">    - When creating an FSM, you may benefit significantly from using a tool called fsm2logisim, which I have written as a Google Colab Notebook. It takes as input an FSM state diagram written using a language called Graphviz that is used to draw graphs (the tool imposes some conventions on top of Graphviz to allow FSM state diagrams to be specified) and then validates them for many common errors and then produces a ROM-based Logisim design that can be used for testing (but it uses components that we don’t allow - so you can’t use it as your solution). You are by no means required to use this tool, but may find it useful to design controller FSMs and get a baseline Logisim implementation generted to compare your design against. If interested, look at [this link](https://docs.google.com/document/d/1O_-cCzknN4_4bRwmf67irHr-uZRGgC5CmIvY8AlXfaQ/edit#heading=h.m1wmalibj7v5)."
   ]
  },
  {
   "cell_type": "markdown",
   "id": "4252f610-cbde-4340-b95d-d3ce3cb15508",
   "metadata": {
    "editable": false,
    "slideshow": {
     "slide_type": ""
    },
    "tags": []
   },
   "source": [
    "# Task 1: Detecting Unlucky Numbers [50 points]"
   ]
  },
  {
   "cell_type": "markdown",
   "id": "331f63ac-66ec-48fe-9ccf-61822efeba89",
   "metadata": {
    "editable": false,
    "slideshow": {
     "slide_type": ""
    },
    "tags": []
   },
   "source": [
    "The goal of this task is to design a **Moore sequential system** that receives on input X a bit every clock tick and outputs on Z a bit, indicating whether or not the sequence of bits received on X thus far since the system being reset represents an unsigned base-2 integer (i.e. integer 0) that is divisible by 13 or not. Specifically, Z=1 implies that the bits received on X thus far represent an unsigned base-2 integer, whose most significant bit is the first bit received after the latest reset and whose least significant bit is the most recent bit received, is divisible by 13.  Your system also has an input RST meant to be used as a synchronous reset. The system is considered to have started afresh upon reset. Your goal when encoding states and designing the combinational logic is to come up with a cost-efficient design. As a hint, we covered similar FSM in the class.\n",
    "\n",
    "**Starter Logisim File:** da2_task1.circ\n",
    "\n",
    "**Main Circuit:** DUT\n",
    " - Important Note: Do not move, delete, or rename the Pins in DUT, and do not add any new pins\n",
    "\n",
    "**Clock:** CLK\n",
    "\n",
    "**Inputs:** RST, X\n",
    "\n",
    "**Outputs:** Z\n",
    "\n",
    "**Subcircuits:** None given, but you can add your own.\n",
    "\n",
    "**Allowed Logisim Modules**\n",
    " - *From Gates:* NOT, NAND.\n",
    "     * Important Note: While Logisim allows inputs of gates such as NAND to be selectively negated, you must not use that feature since doing so changes the gate’s functionality. If you need to invert  a gate’s input, do so using a NOT gate \n",
    " - *From Wiring:* any except Transistor, Pull Resistor, POR, Transmission Gate, Power, and Ground.\n",
    "     * Important Note: While you can use Pin in any subcircuits you define, you must not add any Pin to DUT as that will cause failure with the Autograder. If you need to probe an inner signal in DUT or your subcircuits, use Probe instead of Pin.\n",
    " - *From Plexers:* None.\n",
    " - *From Arithmetic:* None.\n",
    " - *From Memory:* T Flip-Flops (you may not use any other types of flip-flops).\n",
    " - *From Input/Output:* Any (you may find these helpful when testing).\n",
    " - No other component is allowed and will result in a zero score.\n",
    "\n",
    "**Area Cost of Logisim Modules:** Please see the instructions at the top.\n",
    "\n",
    "**System Behavior:**\n",
    "\n",
    "* The active edge of CLK is the rising edge unless otherwise specified.\n",
    "* RST is meant to be used as a synchronous reset signal. Whenever the external world wants to reset the system, it will assert RST=1 for at least one rising edge of CLK and then make RST=0 to start normal operation. Note that reset may occur multiple times as the system runs.\n",
    "* The external world does not care about the value of Z on clock edges before the first clock edge after the start at which your system sees RST=1.\n",
    "* If RST=1 at a clock edge, then the external world must see Z=0 at the next clock edge.\n",
    "* Let us say that your system sees RST=1 at clock edge i and then sees RST=0 at clock edge i+1, then the value seen by your system on X at clock edge i+1 represents the most significant bit of an unsigned base-2 integer and the value of X on subsequent clock edges represent the next bits of the integer as long as RST=0.\n",
    "* If your system sees RST=0 at clock edge j then at clock edge j+1 the external world should see Z=1 if the unsigned base-2 integer seen by your system on X since coming out of reset through clock edge j is divisible by 13, and 0 otherwise.\n",
    "* The whole process restarts afresh if the external world resets the system by asserting RST=1.\n",
    "\n",
    "**Suggestions:**\n",
    "* Since the system is required to be synchronous, you should not use any asynchronous inputs in any sequential elements that you use\n",
    "  - e.g. do not use the asynchronous set or reset signals on Logisim flip-flops.\n",
    "* You should consider using the timing diagram feature of Logisim to test your design\n",
    "\n",
    "**Desiderata:** \n",
    "* Correct functionality \n",
    "    - If your design fails our tests, your score will depend on the report only.\n",
    "    - Please test carefully, particularly for edge cases.\n",
    "* Low area\n",
    "    - Area is measured by adding up all the component costs (you can get this from the Autograder when you upload)\n",
    "* Clean design, testing strategy, quality of explanation, etc.\n",
    "\n",
    "**Grading:** \n",
    "- You shall receive a zero score for your design if you use a Logisim component that was not explicitly permitted or use more than the allowed quantity of a permitted component.\n",
    "- The score for Logisim design will be divided as 75% for correct implementation of the required functionality and 25% for area.\n",
    "- To determine the score for correct functionality, we will subject your design to a long random test sequence with one or more resets and multiple requests to perform the specified task. We will  evaluate your system's behavior at every clock tick for errors. Certain kinds of errors may prevent further testing, e.g., if your system fails to follow protocol or produces values that are not valid digital values. We will look at how many test tasks your system handled, and what fraction of them correctly. In the case of designs with errors, there is a minimum baseline penalty of 20%, and additional penalty based on the number of tests failed. However, for designs that failed to work but assessed to have demonstrated some baseline effort and functionality, the Autograder will assign a partial credit. However, any request to regrade will take away that partial credit and the design will be evaluated from scratch and may result in a lower score.\n",
    "- To determine the score for area cost, we will score as follows: you will get a full score for designs that are no worse than 1.1 x best correct submission and a score of 0 if your design is worse than 2 x best submission, with linear interpolation in between. The autograder will compute the area of your design, but the scoring will be done separately, depending on the score of the whole class. Note that you will only get a full score for area cost if your design works entirely correctly. Otherwise, we will prorate the area score in proportion to the # of tests the circuit performed correctly on."
   ]
  },
  {
   "cell_type": "markdown",
   "id": "506e3104-c28c-4799-a98a-d6ebcaa05181",
   "metadata": {
    "editable": false,
    "slideshow": {
     "slide_type": ""
    },
    "tags": []
   },
   "source": [
    "## Part 1.1: Logisim Design [40 points]\n",
    "\n",
    "Upload your design in the _da2_task1.circ_ file to Gradescope. Both correctness and area will be considered when assigning the score."
   ]
  },
  {
   "cell_type": "markdown",
   "id": "6759fd68-1f7a-441d-a7fa-cb7dd969b0e2",
   "metadata": {
    "editable": false,
    "slideshow": {
     "slide_type": ""
    },
    "tags": []
   },
   "source": [
    "## Part 1.2: Report [10 points]\n",
    "\n",
    "Copy the [report template](https://docs.google.com/document/d/1N9xMjqsT42ti3bDMM3NP2SslwrrCeY61HnY0J9q-oM4/edit?usp=sharing), fill it with the required information, save  as PDF, and  upload to Gradescope. "
   ]
  }
 ],
 "metadata": {
  "kernelspec": {
   "display_name": "Python 3 (ipykernel)",
   "language": "python",
   "name": "python3"
  },
  "language_info": {
   "codemirror_mode": {
    "name": "ipython",
    "version": 3
   },
   "file_extension": ".py",
   "mimetype": "text/x-python",
   "name": "python",
   "nbconvert_exporter": "python",
   "pygments_lexer": "ipython3",
   "version": "3.9.12"
  }
 },
 "nbformat": 4,
 "nbformat_minor": 5
}
