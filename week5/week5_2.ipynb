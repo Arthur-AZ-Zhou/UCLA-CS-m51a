{
 "cells": [
  {
   "cell_type": "markdown",
   "id": "46c585d0",
   "metadata": {},
   "source": [
    "# Problem"
   ]
  },
  {
   "cell_type": "markdown",
   "id": "783f22ab",
   "metadata": {},
   "source": [
    "Perform the next operation over 8-bit binary strings: 00001101 - 01001010. Express the result as an 8-bit binary string using two's complement if necessary."
   ]
  },
  {
   "cell_type": "code",
   "execution_count": null,
   "id": "29f4799a",
   "metadata": {
    "ans": 0,
    "question": 0
   },
   "outputs": [],
   "source": [
    "11000011"
   ]
  },
  {
   "cell_type": "markdown",
   "id": "008120a1",
   "metadata": {},
   "source": [
    "I first converted both numbers to decimal, getting 13 - 74 as my operation. I then subtracted getting -61 and I decided to express the result as two's complement. The MSB is 1 to denote the fact that -61 is negative and 2 to the 8th power is 256 so we needed the rest of the 7 bit number to be -256 + x = -61, or x = 195. But we can't express this in 2's complement because we need 8 bits to express 195, so we use 1's complement instead."
   ]
  }
 ],
 "metadata": {
  "kernelspec": {
   "display_name": "Python 3 (ipykernel)",
   "language": "python",
   "name": "python3"
  },
  "language_info": {
   "codemirror_mode": {
    "name": "ipython",
    "version": 3
   },
   "file_extension": ".py",
   "mimetype": "text/x-python",
   "name": "python",
   "nbconvert_exporter": "python",
   "pygments_lexer": "ipython3",
   "version": "3.9.12"
  }
 },
 "nbformat": 4,
 "nbformat_minor": 5
}
