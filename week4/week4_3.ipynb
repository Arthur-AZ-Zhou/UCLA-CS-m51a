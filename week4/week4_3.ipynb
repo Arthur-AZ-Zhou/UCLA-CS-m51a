{
 "cells": [
  {
   "cell_type": "markdown",
   "id": "4e566781",
   "metadata": {},
   "source": [
    "# Problem"
   ]
  },
  {
   "cell_type": "markdown",
   "id": "66cecbe9",
   "metadata": {},
   "source": [
    "Convert the binary number 1011110111010110 into hexadecimal. The answer should consists _only_ of digits 0-9 and letters A to F. No space between them. No apostrophes. Example: 03AF"
   ]
  },
  {
   "cell_type": "markdown",
   "id": "1c73cd80",
   "metadata": {},
   "source": [
    "(Put your answer in the cell below. Do not run the cell.)"
   ]
  },
  {
   "cell_type": "code",
   "execution_count": null,
   "id": "f564b1c7",
   "metadata": {},
   "outputs": [],
   "source": [
    "BDD6"
   ]
  },
  {
   "cell_type": "markdown",
   "id": "6b47e57b",
   "metadata": {},
   "source": [
    "Describe how did you solve the problem in the cell below."
   ]
  },
  {
   "cell_type": "markdown",
   "id": "b857eee2",
   "metadata": {},
   "source": [
    "Firstly I split the entire binary number into groups of 4 bits: 1011, 1101, 1101, and 0110. I would then calculate the binary representation of the 4 numbers leading me to 11, 13, 13, and 6. 11 and 13 translate to B and D in hex respectively netting us the answer of BDD6."
   ]
  }
 ],
 "metadata": {
  "kernelspec": {
   "display_name": "Python 3 (ipykernel)",
   "language": "python",
   "name": "python3"
  },
  "language_info": {
   "codemirror_mode": {
    "name": "ipython",
    "version": 3
   },
   "file_extension": ".py",
   "mimetype": "text/x-python",
   "name": "python",
   "nbconvert_exporter": "python",
   "pygments_lexer": "ipython3",
   "version": "3.9.12"
  }
 },
 "nbformat": 4,
 "nbformat_minor": 5
}
