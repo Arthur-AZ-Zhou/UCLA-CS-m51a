{
 "cells": [
  {
   "cell_type": "markdown",
   "metadata": {},
   "source": [
    "# Spring 2024 ECE M16: Quiz 1"
   ]
  },
  {
   "cell_type": "markdown",
   "metadata": {},
   "source": [
    "## Student Name: _ZHOU, ARTHUR_"
   ]
  },
  {
   "cell_type": "markdown",
   "metadata": {},
   "source": [
    "## Instructions (Please read !!!):\n",
    "\n",
    "**1. This notebook is personalized for you. Make sure you have downloaded the notebook that was listed against your name.**\n",
    "\n",
    "**2. You have until May 1 5:50PM to submit.**\n",
    "\n",
    "**3. You can upload it as many times as you like, but the autograder will only do some basic sanity checks on the basic format of your answer and return a score of 0. It will, however, not check or provide feedback on the correctness of your answer. For example, if the answer has to be a list of base-10 integers, then the sanity check will check whether you indeed provided10 a list of base-10 integers. Likewise, if the answer asks for a logic expression, the sanity check will check whether your answer is a valid logic expression (but it will not check whether the variable names used are correct).**\n",
    "\n",
    "**4. Please do not edit, move, or delete any of the cells. You must only write in the cells provided for your answers while adhering strictly to the format requirements.**\n",
    "\n",
    "**5. Most problems/subproblems will be auto-graded, and it is critically important that you strictly adhere to the formatting requirements for the answers. A few will be graded manually, and there you are allowed free-form text, either plain text or in Markdown format.**\n",
    "\n",
    "**5. After every problem or subproblem, we have provided a cell where you can optionally provide a brief explanation of your solution approach. By default, we will not grade the explanation but use it if your answer is marked wrong by the autograder or the human grader, and you request a regrade. No regrade request will be entertained unless an explanation of how you derived your answer was provided. The explanation cells can accept text in Markdown format.**"
   ]
  },
  {
   "cell_type": "markdown",
   "metadata": {},
   "source": [
    "# Problem 1: Clocks in Unusual Bases [12.5 points]"
   ]
  },
  {
   "cell_type": "markdown",
   "metadata": {},
   "source": [
    "Imagine you are tasked with designing a digital clock that operates in base-6 (senary) instead of the conventional base-10 or binary systems. This clock displays time in a senary format and needs to handle hours, minutes, and seconds converted from the standard base-10 time format. The hours follow a 24-hr format, going from 0 to 23 in value."
   ]
  },
  {
   "cell_type": "markdown",
   "metadata": {},
   "source": [
    "## Part 1.1: Displaying Numbers [5 points]\n",
    "\n",
    "Propose a method for displaying numbers in base-6 on the standard seven-segment display shown below.\n",
    "\n",
    "![](https://raw.githubusercontent.com/UCLA-ECEM16/assets/main/2024-Spring/7segment.jpg)\n",
    "\n",
    "(**Note:** if an image doesn't show up above, please click on [this link](https://www.dropbox.com/scl/fi/qfn9ahxhs0f5kearj7ear/7segment.png?rlkey=istj1og56vw5x2s9mzti5jktw&dl=0)).\n",
    "\n",
    "\n",
    "For each digit, derive which segments will you light up. Your answer will be a list with 6 entries corresponding to digits 0 through 5 in order. Each entry will be a bit string of length 7 consisting only of 0s and 1s, with the characters from left to right indicating whether segments 0 through 6 are on (indicated by 1) or off (indicated by 0).  So for example, your answer may look like \\[ 0101011,0111001,0100011,0101001,0101010 \\] for base-5. Here, 0101011 will indcate that segments 1,3,5, and 6 are to be on. You **must not** put quotes around the bit strings.\n",
    "\n",
    "**Note: No partial credit - you must get all entries correct.**"
   ]
  },
  {
   "cell_type": "code",
   "execution_count": null,
   "metadata": {},
   "outputs": [],
   "source": [
    "[0111111,0000110,1011011,1001111,1100110,1101101]"
   ]
  },
  {
   "cell_type": "markdown",
   "metadata": {},
   "source": [
    "**Optional Explanation:**"
   ]
  },
  {
   "cell_type": "markdown",
   "metadata": {},
   "source": [
    "I counted each of the segments that would be lit up for the respective number."
   ]
  },
  {
   "cell_type": "markdown",
   "metadata": {},
   "source": [
    "## Part 1.2: Hardware Requirements [3 points]\n",
    "\n",
    "How many 7-segment displays total would we need to display the required digits for hours, minutes, and seconds for your base-6 clock? Your answer will be a base-10 non-negative integer.\n",
    "\n",
    "**Note: No partial credit.**"
   ]
  },
  {
   "cell_type": "code",
   "execution_count": 4,
   "metadata": {},
   "outputs": [],
   "source": [
    "18"
   ]
  },
  {
   "cell_type": "markdown",
   "metadata": {},
   "source": [
    "**Optional Explanation:**"
   ]
  },
  {
   "cell_type": "markdown",
   "metadata": {},
   "source": [
    "6 hours 6 min 6 seconds"
   ]
  },
  {
   "cell_type": "markdown",
   "metadata": {},
   "source": [
    "## Part 1.3: It is Midnight [4.5 points]\n",
    "\n",
    "What digits will the base-6 clock's show just before resetting to 0 hrs, 0 mins, 0 secs at midnight? Assuming the clock shows hours, minutes, and seconds, in that order, your answer should be a list of digits with the first entry being the left most digit of the hour, and so on. For example, your answer may be \\[0,1,2,3,4,5\\] to indicate that the clock display shows 01 for hours, 23 for minutes, and 45 for seconds.\n",
    "\n",
    "**Note: No partial credit.**"
   ]
  },
  {
   "cell_type": "code",
   "execution_count": null,
   "metadata": {},
   "outputs": [],
   "source": [
    "[0,0,0,0,0,0]"
   ]
  },
  {
   "cell_type": "markdown",
   "metadata": {},
   "source": [
    "**Optional Explanation:**"
   ]
  },
  {
   "cell_type": "markdown",
   "metadata": {},
   "source": [
    "For midnight everything is reset"
   ]
  },
  {
   "cell_type": "markdown",
   "metadata": {},
   "source": [
    "# Problem 2: Universal Gates [7.5 points]"
   ]
  },
  {
   "cell_type": "markdown",
   "metadata": {},
   "source": [
    "Consider a 2-input boolean gate with inputs _A_ and _B_ which performs the function _A<=B_. Prove that this gate is _universal_. You can assume that in access to an infinite supply of such gates, you also have access to boolean logic constants 0 and 1. \n",
    "\n",
    "_Hint:_ In the course we have discussed various ways of showing that a gate or a set of gates is universal, but basically the strategy boils down to proving that using the provided gate (or set of gates), one can implement any arbitrary boolean logic function (i.e., a function expressible using the basic boolean logic operators ~, &, and | together with parentheses for grouping as necessary). In the lecture we also showed that the following sets of gates are universal {NAND2}, {NOR2}, {NOT,AND2}, and {NOT,OR2}, and so you can assume this to be known.\n",
    "\n",
    "**Write your proof of universality of the A<=B gate in the text cell below (you may use Markdown). The answer will be manually graded.**"
   ]
  },
  {
   "cell_type": "markdown",
   "metadata": {},
   "source": [
    "We can prove that the <= gate will create a {NOT,AND2} gate. \n",
    "\n",
    "Let's assume B is 0 for the NOT example and if A is a positive number we return 0, and if A is a negative number or zero we return 1. This is just like a NOT operator where if A is a positive integer (which corresponds to 1) we return a 0 and if A is negative or 0 (which corresponds to 0) we return a 1. So we've implemented the NOT gate successfully.\n",
    "\n",
    "If A <= B then A & B = A, because the logic works this way we can effectively create an AND gate if we set the return value to input A. \n",
    "\n",
    "Because we proved that the <= gate can create a NOT and AND2 gate, we proved that the <= gate is universal because it can create a member in the universal set of gates."
   ]
  },
  {
   "cell_type": "markdown",
   "metadata": {
    "id": "yzz4UTixG-I2"
   },
   "source": [
    "# Problem 3: Remapping logic values to physical voltages [7.5 points]"
   ]
  },
  {
   "cell_type": "markdown",
   "metadata": {},
   "source": [
    "There is a digital electronic system with inputs _a_, _b_, and _c_ which performs the function _f(a,b,c)_ = \\(a^b\\)^c when the inputs and outputs of the digital system are considered to be logic-0 for low-voltage (say, 0V) and logic-1 for high-voltage (say, 3V). Now, we decide to swap the mapping between logic levels and voltages so that low-voltage (0V) stands for logic-1 and high-voltage (3V) stands for logic-0. The digital electronic system is otherwise unchanged. What boolean logic function _g(a,b,c)_ is the system now performing? Your answer must be a boolean expression using only the basic operators (&,|,~) and parentheses, e.g., a & b | a & c. There is no need to simplify the expression; do not put any quotes around it."
   ]
  },
  {
   "cell_type": "markdown",
   "metadata": {
    "id": "8ob-2nP5Hh68"
   },
   "source": [
    "**Write a boolean logic expression for _g(a,b,c)_ below:**"
   ]
  },
  {
   "cell_type": "code",
   "execution_count": null,
   "metadata": {
    "id": "CtN68h-KHItf"
   },
   "outputs": [],
   "source": [
    "(~a & ~b & ~c) | (a & b & ~c) | (~a & b & c) | (a & ~b & c)"
   ]
  },
  {
   "cell_type": "markdown",
   "metadata": {},
   "source": [
    "**Optional Explanation:**"
   ]
  },
  {
   "cell_type": "markdown",
   "metadata": {},
   "source": [
    "The way I solved this was I drew out the kmap for (a XOR b) XOR c and ended up getting that minterms 1 2 4 and 7 were 1's while everything else was 0. Thus when I went to redraw the new kmap after the logic swap I saw that 0 3 5 and 6 were 1's while the previous 1's were 0. I then wrote out all the implicants and solved for the KMAP."
   ]
  },
  {
   "cell_type": "markdown",
   "metadata": {},
   "source": [
    "# Problem 4: Miscellaneous [12.0 points]"
   ]
  },
  {
   "cell_type": "markdown",
   "metadata": {},
   "source": [
    "## Part 4.1: Counting Functions [2.5 points]\n",
    "\n",
    "Consider a function _f(x3,x2,x1,x0)_ where the function output is a don’t care for _x3,x2,x1,x0_ = 1010, 1011, 1100, 1101, 1110, and 1111. How many different functions _f()_ exist? Write your answer as a base-10 non-negative integer.\n",
    "\n",
    "**Note: No partial credit.**"
   ]
  },
  {
   "cell_type": "code",
   "execution_count": null,
   "metadata": {},
   "outputs": [],
   "source": [
    "1024"
   ]
  },
  {
   "cell_type": "markdown",
   "metadata": {},
   "source": [
    "**Optional Explanation:**"
   ]
  },
  {
   "cell_type": "markdown",
   "metadata": {},
   "source": [
    "To find the number of f() functions we have to find the total number of inputs for a 4-input boolean function - the number of \"don't care\" combinations. Then we do 2^(value we get after subtracting). The number of inputs for a 4-input boolean functions is 2^4 = 16. We are given 6 don't care combinations so we have 2^(16-6) = 2^10 = 1024."
   ]
  },
  {
   "cell_type": "markdown",
   "metadata": {},
   "source": [
    "## Part 4.2: Workings of an Encoder [2.5 points]\n",
    "\n",
    "Consider a 4-to-2 encoder with inputs _a\\[0\\]_, _a\\[1\\]_, _a\\[2\\]_, and _a\\[3\\]_, and outputs _b\\[0\\]_ and _b\\[1\\]_. If outputs are _b\\[0\\]=1_ and _b\\[1\\]=0_, what are the values of _a\\[0\\]_, _a\\[1\\]_, _a\\[2\\]_, and _a\\[3\\]_? Your answer should be a bit string of length 4 with characters 0 and 1 only, indicating respectively the values of _a\\[0\\]_, _a\\[1\\]_, _a\\[2\\]_, and _a\\[3\\]_. For example, write 0101 if your answer is that _a\\[0\\]=0_, _a\\[1\\]=1_, _a\\[2\\]=0_, and _a\\[3\\]=1_.\n",
    "\n",
    "**Note: No partial credit.**"
   ]
  },
  {
   "cell_type": "code",
   "execution_count": null,
   "metadata": {},
   "outputs": [],
   "source": [
    "0100"
   ]
  },
  {
   "cell_type": "markdown",
   "metadata": {},
   "source": [
    "**Optional Explanation:**"
   ]
  },
  {
   "cell_type": "markdown",
   "metadata": {},
   "source": [
    "I drew out the truth table for a 4-2 encoder (I put it in the order of a[3], a[2], a[1], a[0] and b[1], b[0]). I found out that the value of b[1] = 0 and b[0] = 1 will correspond to a[3] = 0 a[2] = 0 a[1] = 1 a[0] = 0. I then reversed it because the question asks for the answer in the reversed order I did it in."
   ]
  },
  {
   "cell_type": "markdown",
   "metadata": {},
   "source": [
    "## Part 4.3: Cost of Decoder Built from Simpler Decoders  [7.0 points]\n",
    "\n",
    "Consider that you’re given a supply of 2-to-4 decoders, _k_-input AND gates, and NOT gates. Here _k_ is of your choice. Implement the  5-to-32 decoder using these. How many 2-to-4 decoders, _k_-input AND gates, and NOT gates do you need? Your goal is to maximize the use of your supply of 2-to-4 decoders and minimize the use of AND gates.\n",
    "\n",
    "Write your answer as a list with the values as follows: \\[k, # of NOT gates, # of k-input AND gates, # of 2-to-4 decoders\\], e.g., \\[2,3,5,6\\].\n",
    "\n",
    "**Note: No partial credit.**"
   ]
  },
  {
   "cell_type": "code",
   "execution_count": null,
   "metadata": {},
   "outputs": [],
   "source": [
    "[2,3,4,3]"
   ]
  },
  {
   "cell_type": "markdown",
   "metadata": {},
   "source": [
    "**Optional Explanation:**"
   ]
  },
  {
   "cell_type": "markdown",
   "metadata": {},
   "source": [
    "The tricky part is creating the 5-bit input. We use 3 2-4 decoders for it, 1 for the first 2 MSB of the 5 bit input and 2 for the last 3 LSB. For the first 2 decoders we use the output to represents one of the 4 groups of possible outputs and we take this line of output and use it as an input to the 4 AND gates. We use 3 NOT gates to invert the value of the LSB before we input it in the the decoder."
   ]
  },
  {
   "cell_type": "markdown",
   "metadata": {
    "id": "RtOtKx0PLHcV"
   },
   "source": [
    "# Problem 5: Karnaugh Map Concepts [20 points]"
   ]
  },
  {
   "cell_type": "markdown",
   "metadata": {},
   "source": [
    "Consider the following Boolean function defined in terms of its lists of **maxterms** and **don't cares**\n",
    "\n",
    "_f(a,b,c,d,) =_  $\\Pi$ _M(2, 5, 9, 11, 12) + D(3, 6, 7, 8)_\n",
    "\n",
    "For purposes of minterm and maxterm id, consider the inputs to be in the order d,c,b,a so that minterm m(1) corresponds to ~d & ~c & ~b & a, maxterm M(1) corresponds to d | c | b | ~a, minterm m(2) corresponds to ~d & ~c & b & ~a, maxterm M(2) corresponds to d | c | ~b | a, and so on."
   ]
  },
  {
   "cell_type": "markdown",
   "metadata": {},
   "source": [
    "## Part 5.1: Karnaugh Map [4 points]\n",
    "\n",
    "Using the figure of the empty Karnaugh Map below as reference, \n",
    "\n",
    "![](https://raw.githubusercontent.com/UCLA-ECEM16/assets/main/2024-Spring/kmap2x2_small.jpg)\n",
    "\n",
    "(**Note:** if an image doesn't show up above, please click on [this link](https://www.dropbox.com/scl/fi/4dhx4x4g2wp9dtgyinioo/kmap2x2_small.png?rlkey=qlw1nic0ixcpw0pfs72bf8ymr&dl=0)).\n",
    "\n",
    "provide the logic values for the cells of the Karnaugh Map for _f(a,b,c,d)_ as a comma-separated list of 0 or 1s, starting from top left corner cell, and going row by row (i.e., top row first, and bottom row last), and left to right within each row. As there are 16 cells, your answer will be a list of 16 elements, where each element is a 0 or 1 or X (don't care), e.g., \\[1,0,1,0,1,1,1,1,1,0,1,X,1,1,1,X\\] would indicate top left cell to be 1, the next one to the right 0, and so on. Please note how variables correspond to rows and columns in the Karnaugh Map.\n",
    "\n",
    "**Note: No partial credit - you must get all entries correct.**"
   ]
  },
  {
   "cell_type": "code",
   "execution_count": null,
   "metadata": {},
   "outputs": [],
   "source": [
    "[1,1,X,0,1,0,X,X,0,1,1,1,X,0,0,1]"
   ]
  },
  {
   "cell_type": "markdown",
   "metadata": {},
   "source": [
    "**Optional Explanation:**"
   ]
  },
  {
   "cell_type": "markdown",
   "metadata": {},
   "source": [
    "I drew out the Kmap filling out values for the don't care as X's and maxterms as 0's. Then I filled out 1's for the remaining values of the kmap."
   ]
  },
  {
   "cell_type": "markdown",
   "metadata": {},
   "source": [
    "## Part 5.2: Prime Implicants [4 points]\n",
    "\n",
    "Identify all the prime implicants of _f(a,b,c,d)_. Provide your answer as a list of boolean expressions corresponding to the prime implicants. Example: \\[a&b\\], or \\[a&b,c&~d\\]; or \\[\\] if there are none. \n",
    "\n",
    "**Note: No partial credit - you must get all entries correct.**"
   ]
  },
  {
   "cell_type": "code",
   "execution_count": null,
   "metadata": {},
   "outputs": [],
   "source": [
    "[~b&~c&~d,~a&~b&~d,a&c&d,b&c,~a&b&d]"
   ]
  },
  {
   "cell_type": "markdown",
   "metadata": {},
   "source": [
    "**Optional Explanation:**"
   ]
  },
  {
   "cell_type": "markdown",
   "metadata": {},
   "source": [
    "I drew out the kmap and wrote out all the prime implicants I could find. I put the don't care values of 3 and 8 as 0 because they did not help in reducing the length of the prime implicant."
   ]
  },
  {
   "cell_type": "markdown",
   "metadata": {},
   "source": [
    "## Part 5.3: Essential Prime Implicants [4 points]\n",
    "\n",
    "Determine which of the identified prime implicants are essential. Provide your answer as a list of boolean logic expressions. Example: \\[a&b\\], or \\[a&b,c&~d\\]; or \\[\\] if there are none.\n",
    "\n",
    "**Note: No partial credit - you must get all entries correct.**"
   ]
  },
  {
   "cell_type": "code",
   "execution_count": null,
   "metadata": {},
   "outputs": [],
   "source": [
    "[~b&~c&~d,~a&~b&~d,a&c&d,b&c,~a&b&d]"
   ]
  },
  {
   "cell_type": "markdown",
   "metadata": {},
   "source": [
    "**Optional Explanation:**"
   ]
  },
  {
   "cell_type": "markdown",
   "metadata": {},
   "source": [
    "_Replace this text with your explanation._"
   ]
  },
  {
   "cell_type": "markdown",
   "metadata": {},
   "source": [
    "## Part 5.4: Redundant Prime Implicants [4 points]\n",
    "\n",
    "Identify any redundant prime implicants.  Provide your answer as a list of boolean logic expressions. Example: \\[a&b\\], or \\[a&b,c&~d\\]; or \\[\\] if there are none.\n",
    "\n",
    "**Note: No partial credit - you must get all entries correct.**"
   ]
  },
  {
   "cell_type": "code",
   "execution_count": null,
   "metadata": {},
   "outputs": [],
   "source": [
    "[]"
   ]
  },
  {
   "cell_type": "markdown",
   "metadata": {},
   "source": [
    "**Optional Explanation:**"
   ]
  },
  {
   "cell_type": "markdown",
   "metadata": {},
   "source": [
    "_Replace this text with your explanation._"
   ]
  },
  {
   "cell_type": "markdown",
   "metadata": {},
   "source": [
    "## Part 5.5: Selective Prime Implicants [4 points]\n",
    "\n",
    "Identify any selective prime implicants. Provide your answer as a list of boolean logic expressions. Example: \\[a&b\\], or \\[a&b,c&~d\\]; or \\[\\] if there are none.\n",
    "\n",
    "**Note: No partial credit - you must get all entries correct.**"
   ]
  },
  {
   "cell_type": "code",
   "execution_count": null,
   "metadata": {},
   "outputs": [],
   "source": [
    "[]"
   ]
  },
  {
   "cell_type": "markdown",
   "metadata": {},
   "source": [
    "**Optional Explanation:**"
   ]
  },
  {
   "cell_type": "markdown",
   "metadata": {},
   "source": [
    "_Replace this text with your explanation._"
   ]
  }
 ],
 "metadata": {
  "colab": {
   "authorship_tag": "ABX9TyNxS/ytAWtdXjWx+oqRBaSU",
   "collapsed_sections": [
    "giKItPXLH-NX",
    "RtOtKx0PLHcV",
    "MwDdsI4oNvIn",
    "-jaTKxa0OmC6",
    "Q2XOg1H-PmzF"
   ],
   "provenance": []
  },
  "kernelspec": {
   "display_name": "Python 3 (ipykernel)",
   "language": "python",
   "name": "python3"
  },
  "language_info": {
   "codemirror_mode": {
    "name": "ipython",
    "version": 3
   },
   "file_extension": ".py",
   "mimetype": "text/x-python",
   "name": "python",
   "nbconvert_exporter": "python",
   "pygments_lexer": "ipython3",
   "version": "3.9.12"
  }
 },
 "nbformat": 4,
 "nbformat_minor": 4
}
