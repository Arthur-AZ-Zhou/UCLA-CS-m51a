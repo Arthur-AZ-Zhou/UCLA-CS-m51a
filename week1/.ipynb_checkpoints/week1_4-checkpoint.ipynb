{
 "cells": [
  {
   "cell_type": "markdown",
   "id": "92b531eb",
   "metadata": {},
   "source": [
    "# Problem"
   ]
  },
  {
   "cell_type": "markdown",
   "id": "e934cc15",
   "metadata": {},
   "source": [
    "There are 661 wine bottles. One of the bottles contains poisoned wine. A rat dies after one hour of drinking the poisoned wine. Under the same premises claimed in the discussion section, if there are only 3 rats, what is the minimum amount of hours needed to figure out which bottle contains poison in the worst case. Put your result in the cell below as an integer, do not write any text."
   ]
  },
  {
   "cell_type": "code",
   "execution_count": 1,
   "id": "da56cab6",
   "metadata": {},
   "outputs": [
    {
     "data": {
      "text/plain": [
       "8"
      ]
     },
     "execution_count": 1,
     "metadata": {},
     "output_type": "execute_result"
    }
   ],
   "source": [
    "8"
   ]
  },
  {
   "cell_type": "markdown",
   "id": "a155900c",
   "metadata": {},
   "source": [
    "Describe how did you solve the problem in the cell below."
   ]
  },
  {
   "cell_type": "code",
   "execution_count": 2,
   "id": "bef4f2ec",
   "metadata": {},
   "outputs": [
    {
     "ename": "SyntaxError",
     "evalue": "invalid syntax (2957375251.py, line 1)",
     "output_type": "error",
     "traceback": [
      "\u001b[1;36m  Input \u001b[1;32mIn [2]\u001b[1;36m\u001b[0m\n\u001b[1;33m    In discussion, we were able to encode n + 1 different states for the rats where n is the number of\u001b[0m\n\u001b[1;37m       ^\u001b[0m\n\u001b[1;31mSyntaxError\u001b[0m\u001b[1;31m:\u001b[0m invalid syntax\n"
     ]
    }
   ],
   "source": [
    "In discussion, we were able to encode n + 1 different states for the rats where n is the number of hours that you are given.\n",
    "With this we were able to determine the number of rats needed given the number of bottles and the time constraint. This \n",
    "resulted in a formula: log base n + 1 (numberOfBottles) = numberOfRatsNeeded. Utilizing this formula we are able to write\n",
    "something similar: log n + 1 (661) = 3. We can turn this into (n + 1)^3 = 661 to which we find out that the ceiling is n + 1\n",
    "= 9 which means n = 8, so we need 8 hours."
   ]
  }
 ],
 "metadata": {
  "kernelspec": {
   "display_name": "Python 3 (ipykernel)",
   "language": "python",
   "name": "python3"
  },
  "language_info": {
   "codemirror_mode": {
    "name": "ipython",
    "version": 3
   },
   "file_extension": ".py",
   "mimetype": "text/x-python",
   "name": "python",
   "nbconvert_exporter": "python",
   "pygments_lexer": "ipython3",
   "version": "3.9.12"
  }
 },
 "nbformat": 4,
 "nbformat_minor": 5
}
